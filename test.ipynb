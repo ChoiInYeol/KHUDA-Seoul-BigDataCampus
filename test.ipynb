{
 "cells": [
  {
   "cell_type": "code",
   "execution_count": null,
   "metadata": {},
   "outputs": [],
   "source": [
    "import numpy as np\n",
    "import pandas as pd"
   ]
  }
 ],
 "metadata": {
  "kernelspec": {
   "display_name": "Python 3.8.8 64-bit ('nlp': venv)",
   "language": "python",
   "name": "python3"
  },
  "language_info": {
   "name": "python",
   "version": "3.8.8"
  },
  "orig_nbformat": 4,
  "vscode": {
   "interpreter": {
    "hash": "2841138e0cb36a87b9087a716568e8c6f13c8e7f0d0b2f0d1856a4e6183eee4b"
   }
  }
 },
 "nbformat": 4,
 "nbformat_minor": 2
}
