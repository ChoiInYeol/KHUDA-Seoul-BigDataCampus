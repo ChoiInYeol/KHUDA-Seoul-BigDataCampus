{
 "cells": [
  {
   "cell_type": "code",
   "execution_count": null,
   "metadata": {},
   "outputs": [],
   "source": [
    "import pandas as pd\n",
    "from collections import OrderedDict\n",
    "import geopandas\n",
    "import libpysal\n",
    "from libpysal import cg, examples\n",
    "import matplotlib\n",
    "import matplotlib.pyplot as plt\n",
    "import matplotlib.lines as mlines\n",
    "import matplotlib.patches as mpatches\n",
    "from matplotlib.colors import ListedColormap\n",
    "import matplotlib_scalebar\n",
    "from matplotlib_scalebar.scalebar import ScaleBar\n",
    "import numpy\n",
    "import ortools\n",
    "from ortools.linear_solver import pywraplp\n",
    "import seaborn\n",
    "import shapely\n",
    "from shapely.geometry import Point\n",
    "import spaghetti\n",
    "import sys\n",
    "\n",
    "%matplotlib inline\n",
    "\n",
    "# 한글폰트\n",
    "import os\n",
    "from matplotlib import font_manager, rc\n",
    "path = 'C:/Windows/Fonts/malgun.ttf'\n",
    "font_name = font_manager.FontProperties(fname=path, size=50).get_name()\n",
    "plt.rc('font', family=font_name)\n",
    "matplotlib.rcParams['axes.unicode_minus'] = False \n",
    "\n",
    "import numpy as np\n",
    "\n",
    "emd = geopandas.read_file('dataset\\EMD_20220324\\emd.shp', encoding = 'euc-kr')\n",
    "emd = emd.to_crs(epsg=4326)\n",
    "sig = geopandas.read_file('dataset\\SIG_20220324\\sig.shp', encoding = 'euc-kr')\n",
    "sig = sig.to_crs(epsg=4326)\n",
    "\n",
    "seoul_EMD = emd[emd['EMD_CD'].str.startswith('11')]\n",
    "seoul_sig = sig[sig['SIG_CD'].str.startswith('11')]\n",
    "\n",
    "display(seoul_EMD.head())\n",
    "display(seoul_sig.head())\n",
    "\n",
    "seoul_EMD[\"SIG_CD\"] = seoul_EMD[\"EMD_CD\"].str[:5]\n",
    "seoul = pd.merge(seoul_sig, seoul_EMD, how='left', left_on='SIG_CD', right_on=\"SIG_CD\")\n",
    "\n",
    "seoul2 = seoul[[\"SIG_CD\", 'SIG_KOR_NM', 'EMD_CD', 'EMD_KOR_NM', 'geometry_y']]\n",
    "seoul2"
   ]
  },
  {
   "cell_type": "code",
   "execution_count": null,
   "metadata": {},
   "outputs": [],
   "source": [
    "f = open(\"DataSet/심야약국_원본데이터반출/B031. 서울시 행정동 단위 거주인구 데이터/2. 파일데이터/TB_T_RSPOP_ADMI.txt\", encoding='utf-8')\n",
    "f = f.read()\n",
    "f.close()\n",
    "f.replace(\"`\", \"\")"
   ]
  },
  {
   "cell_type": "code",
   "execution_count": null,
   "metadata": {},
   "outputs": [],
   "source": [
    "data031 = pd.read_table(f, sep=\"|\")\n",
    "#dtd"
   ]
  }
 ],
 "metadata": {
  "kernelspec": {
   "display_name": "Python 3.9.13 ('statics': venv)",
   "language": "python",
   "name": "python3"
  },
  "language_info": {
   "name": "python",
   "version": "3.9.13"
  },
  "orig_nbformat": 4,
  "vscode": {
   "interpreter": {
    "hash": "7a6730e2a832d029fb8ba846a8a530685294569f66063c1dd67c0dc51834d7fd"
   }
  }
 },
 "nbformat": 4,
 "nbformat_minor": 2
}
