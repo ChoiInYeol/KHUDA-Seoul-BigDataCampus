{
 "cells": [
  {
   "cell_type": "markdown",
   "id": "e9b09caa",
   "metadata": {},
   "source": [
    "# MCLP\n",
    "$$Maximize \\sum_{i \\in I} w_iy_i $$\n",
    "$$s.t \\quad  y_i \\leq \\sum_{j \\in N_i}x_j \\quad for \\, all \\quad i \\in I$$\n",
    "$$ \\sum_{j \\in J}x_j = K $$\n",
    "$$x_j,y_i \\in {0,1} \\quad for \\, all \\quad i \\in I,j \\in J$$\n",
    "\n",
    "|문자|의미|\n",
    "|-|-|\n",
    "|i|수요 포인트 index|\n",
    "|j|설비지역 포인트 index|\n",
    "|I|수요 포인트 집합|\n",
    "|J|설비지역 포인트 집합|\n",
    "|K|설치해야하는 설비 개수|\n",
    "|x|설비 후보 지역 중 위치 j 에 설치되면 1, 아니면 0|\n",
    "|y|적어도 하나의 설비로 그 포인트가 커버되면 1, 아니면 0|\n",
    "|w|입지 선정 지수=가중치|\n",
    "\n",
    "## [공간최적화 참조 코드](https://pysal.org/spaghetti/notebooks/facility-location.html)"
   ]
  },
  {
   "cell_type": "markdown",
   "id": "e45d5003",
   "metadata": {},
   "source": [
    "# 모듈 불러오기"
   ]
  },
  {
   "cell_type": "code",
   "execution_count": null,
   "id": "90be3e66",
   "metadata": {},
   "outputs": [],
   "source": [
    "import os\n",
    "os.chdir('D:\\wd_python\\공빅프로젝트\\이동노동자')\n",
    "os.getcwd()\n",
    "%config InlineBackend.figure_format = \"retina\""
   ]
  },
  {
   "cell_type": "code",
   "execution_count": null,
   "id": "f7cc9cea",
   "metadata": {},
   "outputs": [],
   "source": [
    "import warnings\n",
    "warnings.filterwarnings(action='ignore') #경고 메시지 무시\n",
    "from IPython.display import display #print가 아닌 display()로 연속 출력\n",
    "from IPython.display import HTML #출력 결과를 HTML로 생성"
   ]
  },
  {
   "cell_type": "code",
   "execution_count": null,
   "id": "4d2a854a",
   "metadata": {
    "scrolled": true
   },
   "outputs": [],
   "source": [
    "import pandas as pd\n",
    "from collections import OrderedDict\n",
    "import geopandas\n",
    "import libpysal\n",
    "from libpysal import cg, examples\n",
    "import matplotlib\n",
    "import matplotlib.pyplot as plt\n",
    "import matplotlib.lines as mlines\n",
    "import matplotlib.patches as mpatches\n",
    "from matplotlib.colors import ListedColormap\n",
    "import matplotlib_scalebar\n",
    "from matplotlib_scalebar.scalebar import ScaleBar\n",
    "import numpy\n",
    "import ortools\n",
    "from ortools.linear_solver import pywraplp\n",
    "import seaborn\n",
    "import shapely\n",
    "from shapely.geometry import Point\n",
    "import spaghetti\n",
    "import sys\n",
    "\n",
    "%matplotlib inline\n",
    "\n",
    "# 한글폰트\n",
    "import os\n",
    "from matplotlib import font_manager, rc\n",
    "path = 'C:/Windows/Fonts/malgun.ttf'\n",
    "font_name = font_manager.FontProperties(fname=path, size=50).get_name()\n",
    "plt.rc('font', family=font_name)\n",
    "matplotlib.rcParams['axes.unicode_minus'] = False \n",
    "\n",
    "import numpy as np\n",
    "import folium"
   ]
  },
  {
   "cell_type": "code",
   "execution_count": null,
   "id": "898bc158",
   "metadata": {},
   "outputs": [],
   "source": [
    "try:\n",
    "    from IPython.display import Markdown as md\n",
    "except ImportError:\n",
    "    pass"
   ]
  },
  {
   "cell_type": "markdown",
   "id": "40797b30",
   "metadata": {},
   "source": [
    "# Define a Class and functions"
   ]
  },
  {
   "cell_type": "code",
   "execution_count": null,
   "id": "3453d438",
   "metadata": {},
   "outputs": [],
   "source": [
    "class FacilityLocationModel:\n",
    "    \"\"\"Solve a facility location optimization model\n",
    "\n",
    "    Parameters\n",
    "    ----------\n",
    "    name : str\n",
    "        Problem model name; must also be defined as a class method.\n",
    "    cij : numpy.ndarray\n",
    "        cost matrix from origins (index of i) to destination (index of j).\n",
    "        Default is None.\n",
    "    ai : numpy.ndarray\n",
    "        Client weight vector. Default is None.\n",
    "    s : float\n",
    "        service radius. Default is None.\n",
    "    p : int\n",
    "        Density of facilities to site. Default is None.\n",
    "    write_lp : str\n",
    "        file name (and path) of the LP file to write out.\n",
    "    print_sol : bool\n",
    "        print select results. Default is True.\n",
    "\n",
    "    Methods\n",
    "    -------\n",
    "    build_lscp : build location set covering problem\n",
    "    build_pmp : build p-median problem\n",
    "    build_pcp : build p-center problem\n",
    "    build_mclp : build maximal covering location problem\n",
    "    add_vars : add variables to a model\n",
    "    add_constrs : add contraints to a model\n",
    "    add_obj : add an objective function to a model\n",
    "    optimize : solve a model\n",
    "    record_decisions : record optimal decision variables\n",
    "    non_obj_vals : record non-objective values stats (eg. percent covered)\n",
    "    print_results : print selected results\n",
    "\n",
    "    Attributes\n",
    "    ----------\n",
    "    model : ortools.linear_solver.pywraplp.Solver\n",
    "        proxy of <Swig Object of type 'operations_research::MPSolver *'\n",
    "    n_cli : int\n",
    "        total client sites\n",
    "    r_cli : range\n",
    "        iterable of client sites\n",
    "    n_fac : int\n",
    "        total candidate facility sites\n",
    "    r_fac : range\n",
    "        iterable of candidate facility sites\n",
    "    aij : numpy.ndarray\n",
    "        binary coverage matrix from cij (within s service radius)\n",
    "    sij : numpy.ndarray\n",
    "        demand weighted cost matrix as (ai * cij).\n",
    "    fac_vars : dict\n",
    "        facility decision variables\n",
    "    cli_vars : dict\n",
    "        client decision variables\n",
    "    W : ortools.linear_solver.pywraplp.Variable\n",
    "        minimized maximum variable in the p-center problem formulation\n",
    "    lp_formulation : str\n",
    "        linear programming formulation of the model\n",
    "    solve_minutes : float\n",
    "        solve time in minutes\n",
    "    obj_val : int or float\n",
    "        model objective value\n",
    "    fac2cli : dict\n",
    "        facility to client relationship lookup\n",
    "    cli2fac : dict\n",
    "        client to facility relationship lookup\n",
    "    fac2iloc : dict\n",
    "        facility to dataframe index location lookup\n",
    "    n_cli_uncov : int\n",
    "        count of client location outside the service radius\n",
    "    cli2ncov : dict\n",
    "        client to covered by count lookup\n",
    "    ncov2ncli : dict\n",
    "        covered by count to client count lookup\n",
    "    mean_dist :\n",
    "        mean distance per person to the assigned facility\n",
    "    perc_served :\n",
    "        percentage of weighted clients covered in `s`\n",
    "    \"\"\"\n",
    "\n",
    "    def __init__(\n",
    "        self, name, ai=None, cij=None, s=None, p=None, write_lp=None, print_sol=True\n",
    "    ):\n",
    "        # Set model information\n",
    "        self.name = name\n",
    "        # create a solver instance\n",
    "        solver_instance = pywraplp.Solver.CBC_MIXED_INTEGER_PROGRAMMING\n",
    "        # instantiate a model\n",
    "        self.model = pywraplp.Solver(self.name, solver_instance)\n",
    "\n",
    "        # Set parameters and indices\n",
    "        # facility parameter\n",
    "        if p:\n",
    "            self.p = p\n",
    "        # client count and range\n",
    "        self.cij = cij\n",
    "        self.n_cli = cij.shape[0]\n",
    "        self.r_cli = range(self.n_cli)\n",
    "        # facility count and range\n",
    "        self.n_fac = self.cij.shape[1]\n",
    "        self.r_fac = range(self.n_fac)\n",
    "        # demand parameter\n",
    "        if ai is not None:\n",
    "            self.ai = ai\n",
    "            self.ai_sum = ai.sum()\n",
    "            # weighted demand\n",
    "            try:\n",
    "                self.sij = self.ai * self.cij\n",
    "            except ValueError:\n",
    "                self.ai = self.ai.values.reshape(self.n_cli, 1)\n",
    "                self.sij = self.ai * self.cij\n",
    "        # if the model has a service radius parameter\n",
    "        if s:\n",
    "            self.s = s\n",
    "            # binary coverage matrix from cij\n",
    "            self.aij = numpy.zeros(self.cij.shape)\n",
    "            self.aij[self.cij <= self.s] = 1.0\n",
    "\n",
    "        # Set decision variables, constraints, and objective function\n",
    "        try:\n",
    "            getattr(self, \"build_\" + self.name)()\n",
    "        except:\n",
    "            raise AttributeError(self.name, \"not a defined location model.\")\n",
    "\n",
    "        # solve\n",
    "        self.optimize(write_lp=write_lp)\n",
    "        # records seleted decision variables\n",
    "        self.record_decisions()\n",
    "        # record non-objective values stats (eg. percent covered)\n",
    "        self.non_obj_vals()\n",
    "        # print results\n",
    "        if print_sol:\n",
    "            self.print_results()\n",
    "\n",
    "    def build_lscp(self):\n",
    "        \"\"\" Integer programming formulation of the Location Set Covering Problem.\n",
    "        Originally Published:\n",
    "            Toregas, C. and ReVelle, Charles. 1972.\n",
    "            Optimal Location Under Time or Distance Constraints.\n",
    "            Papers of the Regional Science Association. 28(1):133 - 144.\n",
    "        \"\"\"\n",
    "        # Decision Variables\n",
    "        self.add_vars()\n",
    "        # Constraints\n",
    "        self.add_constrs(constr=1)  # set coverage constraints\n",
    "        # Objective Function\n",
    "        self.add_obj()\n",
    "\n",
    "    def build_pmp(self):\n",
    "        \"\"\"Integer programming formulation of the p-median Problem.\n",
    "        Originally Published:\n",
    "            S. L. Hakimi. 1964. Optimum Locations of Switching Centers and\n",
    "            the Absolute Centers and Medians of a Graph. Operations Research.\n",
    "            12 (3):450-459.\n",
    "        Adapted from:\n",
    "                -1-\n",
    "            ReVelle, C.S. and Swain, R.W. 1970. Central facilities location.\n",
    "            Geographical Analysis. 2(1), 30-42.\n",
    "                -2-\n",
    "            Toregas, C., Swain, R., ReVelle, C., Bergman, L. 1971. The Location\n",
    "            of Emergency Service Facilities. Operations Research. 19 (6),\n",
    "            1363-1373.\n",
    "                - 3 -\n",
    "            Daskin, M. (1995). Network and discrete location: Models, algorithms,\n",
    "            and applications. New York: John Wiley and Sons, Inc.\n",
    "        \"\"\"\n",
    "        # Decision Variables\n",
    "        self.add_vars()\n",
    "        # Constraints\n",
    "        self.add_constrs(constr=2)  # assignment constraints\n",
    "        self.add_constrs(constr=3)  # facility constraint\n",
    "        self.add_constrs(constr=4)  # opening constraints\n",
    "        # Objective Function\n",
    "        self.add_obj()\n",
    "\n",
    "    def build_pcp(self):\n",
    "        \"\"\"Integer programming formulation of the p-center Problem.\n",
    "        Originally Published:\n",
    "            S. L. Hakimi. 1964. Optimum Locations of Switching Centers and\n",
    "            the Absolute Centers and Medians of a Graph. Operations Research.\n",
    "            12 (3):450-459.\n",
    "        Adapted from:\n",
    "            Daskin, M. (1995). Network and discrete location: Models, algorithms,\n",
    "            and applications. New York: John Wiley and Sons, Inc.\n",
    "        \"\"\"\n",
    "        # Decision Variables\n",
    "        self.add_vars()\n",
    "        # Constraints\n",
    "        self.add_constrs(constr=2)  # assignment constraints\n",
    "        self.add_constrs(constr=3)  # facility constraint\n",
    "        self.add_constrs(constr=4)  # opening constraints\n",
    "        self.add_constrs(constr=5)  # minimized maximum constraints\n",
    "        # Objective Function\n",
    "        self.add_obj()\n",
    "\n",
    "    def build_mclp(self):\n",
    "        \"\"\"Integer programming formulation of the Maximal Covering Location Problem.\n",
    "        Originally Published:\n",
    "            Church, R. L and C. ReVelle. 1974. The Maximal Covering Location\n",
    "            Problem. Papers of the Regional Science Association. 32:101-18.\n",
    "        \"\"\"\n",
    "        # Decision Variables\n",
    "        self.add_vars()\n",
    "        # Constraints\n",
    "        self.add_constrs(constr=3)  # facility constraint\n",
    "        self.add_constrs(constr=6)  # maximal coverage constraints\n",
    "        # Objective Function\n",
    "        self.add_obj()\n",
    "\n",
    "    def add_vars(self):\n",
    "        \"\"\"Add variables to a model.\"\"\"\n",
    "        # facility decision variables\n",
    "        self.fac_vars = {j: self.model.IntVar(0, 1, \"y[%i]\" % (j)) for j in self.r_fac}\n",
    "        # client decision variables\n",
    "        if self.name == \"mclp\":\n",
    "            self.cli_vars = {\n",
    "                (i): self.model.IntVar(0, 1, \"x[%i]\" % (i)) for i in self.r_cli\n",
    "            }\n",
    "        if self.name == \"pmp\" or self.name == \"pcp\":\n",
    "            self.cli_vars = {\n",
    "                (i, j): self.model.IntVar(0, 1, \"x[%i,%i]\" % (i, j))\n",
    "                for i in self.r_cli\n",
    "                for j in self.r_fac\n",
    "            }\n",
    "        # minimized maximum variable\n",
    "        if self.name == \"pcp\":\n",
    "            self.W = self.model.NumVar(0, self.model.infinity(), \"W\")\n",
    "\n",
    "    def add_constrs(self, constr=None):\n",
    "        \"\"\" Add constraints to a model.\n",
    "        (1) set coverage constraints\n",
    "                y1 + x2 >= 1\n",
    "                x1 + x3 >= 1\n",
    "                x2 >= 1\n",
    "        (2) assignment constraints\n",
    "                x1_1 + x1_2 + x1_3 = 1\n",
    "        (3) facility constraints\n",
    "                y1 + y2 + y3 = p\n",
    "        (4) opening constraints\n",
    "                - x1_1 + y1 >= 0\n",
    "                - x2_1 + y1 >= 0\n",
    "                - x3_1 + y1 >= 0\n",
    "        (5) minimax constraints\n",
    "                cost1_1*x1_1 + cost1_2*x1_2 + cost1_3*x1_3 - W <= 0\n",
    "        (6) maximal coverage constraints\n",
    "                - x1 + y1 + y3 >= 0\n",
    "                - x2 + y4 >= 0\n",
    "        Parameters\n",
    "        ----------\n",
    "        constr : int {1, 2, 3, 4, 5, 6}\n",
    "            Contraint type to add to model. See above for explanation.\n",
    "            Default is None.\n",
    "        \"\"\"\n",
    "        # 1 - set covering constraints\n",
    "        if constr == 1:\n",
    "            for i in self.r_cli:\n",
    "                self.model.Add(\n",
    "                    self.model.Sum(\n",
    "                        [self.aij[i, j] * self.fac_vars[j] for j in self.r_fac]\n",
    "                    )\n",
    "                    >= 1\n",
    "                )\n",
    "        # 2 - assignment constraints\n",
    "        elif constr == 2:\n",
    "            for i in self.r_cli:\n",
    "                self.model.Add(\n",
    "                    self.model.Sum([self.cli_vars[i, j] for j in self.r_fac]) == 1\n",
    "                )\n",
    "        # 3 - facility constraint\n",
    "        elif constr == 3:\n",
    "            self.model.Add(\n",
    "                self.model.Sum([self.fac_vars[j] for j in self.r_fac]) == self.p\n",
    "            )\n",
    "        # 4 - opening constraints\n",
    "        elif constr == 4:\n",
    "            for i in self.r_cli:\n",
    "                for j in self.r_fac:\n",
    "                    self.model.Add(self.fac_vars[j] - self.cli_vars[i, j] >= 0)\n",
    "        # 5 - minimax constraints\n",
    "        elif constr == 5:\n",
    "            for i in self.r_cli:\n",
    "                self.model.Add(\n",
    "                    self.model.Sum(\n",
    "                        [self.cij[i, j] * self.cli_vars[i, j] for j in self.r_fac]\n",
    "                    )\n",
    "                    <= self.W\n",
    "                )\n",
    "        # 6 - max coverage constraints\n",
    "        elif constr == 6:\n",
    "            for i in self.r_cli:\n",
    "                self.model.Add(\n",
    "                    self.model.Sum(\n",
    "                        [self.aij[i, j] * self.fac_vars[j] for j in self.r_fac]\n",
    "                    )\n",
    "                    >= self.cli_vars[i]\n",
    "                )\n",
    "\n",
    "    def add_obj(self):\n",
    "        \"\"\"Add an objective function to a model.\"\"\"\n",
    "        if self.name == \"lscp\":\n",
    "            self.model.Minimize(self.model.Sum([self.fac_vars[j] for j in self.r_fac]))\n",
    "\n",
    "        elif self.name == \"pmp\":\n",
    "            obj = [\n",
    "                self.sij[i, j] * self.cli_vars[i, j]\n",
    "                for i in self.r_cli\n",
    "                for j in self.r_fac\n",
    "            ]\n",
    "            self.model.Minimize(self.model.Sum(obj))\n",
    "\n",
    "        elif self.name == \"pcp\":\n",
    "            self.model.Minimize(self.W)\n",
    "\n",
    "        elif self.name == \"mclp\":\n",
    "            obj = [self.ai.flatten()[i] * self.cli_vars[i] for i in self.r_cli]\n",
    "            self.model.Maximize(self.model.Sum(obj))\n",
    "\n",
    "    def optimize(self, write_lp=False):\n",
    "        \"\"\" Solve the model.\n",
    "        Parameters\n",
    "        ----------\n",
    "        write_lp : bool\n",
    "            write out the linear programming formulation\n",
    "        \"\"\"\n",
    "\n",
    "        def _redirect_to_file(self, text):\n",
    "            \"\"\" Write out the model in linear programming format.\n",
    "            Parameters\n",
    "            ----------\n",
    "            text : str\n",
    "                full lp formulation in str format\n",
    "            \"\"\"\n",
    "            original = sys.stdout\n",
    "            sys.stdout = open(self.name + \".lp\", \"w\")\n",
    "            print(text)\n",
    "            sys.stdout = original\n",
    "\n",
    "        self.model.Solve()\n",
    "        # linear programming formulation\n",
    "        if write_lp:\n",
    "            self.lp_formulation = self.model.ExportModelAsLpFormat(True)\n",
    "            self._redirect_to_file(self.lp_formulation)\n",
    "        # WallTime() in milliseconds\n",
    "        self.solve_minutes = self.model.WallTime() * 1.66667e-5\n",
    "        self.obj_val = self.model.Objective().Value()\n",
    "\n",
    "    def record_decisions(self):\n",
    "        \"\"\"Record decision variable relationship folowing optimization.\"\"\"\n",
    "        # facility-to-dataframe index location lookup\n",
    "        self.fac2iloc = {v.name(): k for k, v in self.fac_vars.items()}\n",
    "        # client-to-dataframe index location lookup\n",
    "        self.cli2iloc = {}\n",
    "        # facility-to-client lookup\n",
    "        self.fac2cli = {}\n",
    "\n",
    "        # record client/service relationships\n",
    "        for j in self.r_fac:\n",
    "            if self.fac_vars[j].solution_value() > 0:\n",
    "                jvar = self.fac_vars[j].name()\n",
    "                self.fac2cli[jvar] = []\n",
    "                for i in self.r_cli:\n",
    "                    ivar = None\n",
    "                    if self.name == \"lscp\":\n",
    "                        if self.aij[i, j] > 0:\n",
    "                            ivar = \"x[%i]\" % i\n",
    "                            self.fac2cli[jvar].append(ivar)\n",
    "                    elif self.name == \"mclp\":\n",
    "                        if self.cli_vars[i].solution_value() > 0:\n",
    "                            if self.aij[i, j] > 0:\n",
    "                                ivar = self.cli_vars[i].name()\n",
    "                                self.fac2cli[jvar].append(ivar)\n",
    "                    else:\n",
    "                        if self.cli_vars[i, j].solution_value() > 0:\n",
    "                            ivar = self.cli_vars[i, j].name()\n",
    "                            ivar = ivar.split(\",\")[0] + \"]\"\n",
    "                            self.fac2cli[jvar].append(ivar)\n",
    "                    if ivar:\n",
    "                        self.cli2iloc[ivar] = i\n",
    "\n",
    "        # client-to-facility lookup\n",
    "        self.cli2fac = {}\n",
    "        for cv in list(self.cli2iloc.keys()):\n",
    "            self.cli2fac[cv] = []\n",
    "            for k, v in self.fac2cli.items():\n",
    "                if cv in v:\n",
    "                    self.cli2fac[cv].append(k)\n",
    "\n",
    "        # count of uncovered clients\n",
    "        self.n_cli_uncov = self.n_cli - len(self.cli2iloc.keys())\n",
    "\n",
    "        # clients of clients covered by n facilities\n",
    "        if self.name == \"lscp\" or self.name == \"mclp\":\n",
    "            self.cli2ncov = {}\n",
    "            for c, fs in self.cli2fac.items():\n",
    "                self.cli2ncov[c] = len(fs)\n",
    "            most_coverage = max(self.cli2ncov.values())\n",
    "            self.ncov2ncli = {}\n",
    "            for cov_count in range(most_coverage + 1):\n",
    "                if cov_count == 0:\n",
    "                    self.ncov2ncli[cov_count] = self.n_cli_uncov\n",
    "                    continue\n",
    "                if not cov_count in list(self.cli2ncov.keys()):\n",
    "                    self.ncov2ncli[cov_count] = 0\n",
    "                for c, ncov in self.cli2ncov.items():\n",
    "                    if ncov >= cov_count:\n",
    "                        self.ncov2ncli[cov_count] += 1\n",
    "\n",
    "    def non_obj_vals(self):\n",
    "        \"\"\"Record non-objective values.\"\"\"\n",
    "        if self.name == \"pmp\":\n",
    "            self.mean_dist = self.obj_val / float(self.ai_sum)\n",
    "\n",
    "        if self.name == \"mclp\":\n",
    "            self.perc_served = (self.obj_val / float(self.ai_sum)) * 100.0\n",
    "\n",
    "    def print_results(self):\n",
    "        \"\"\"Print select results.\"\"\"\n",
    "        print(\"Solve Time:\", self.solve_minutes, \"minutes\")\n",
    "\n",
    "        # solve time and objective value\n",
    "        if self.name == \"lscp\":\n",
    "            u1 = \"facilities needed for total coverage within a \"\n",
    "            u2 = \"%f meter service radius\" % self.s\n",
    "        if self.name == \"pmp\":\n",
    "            u1 = \"total weighted distance with \"\n",
    "            u2 = \"%i selected facilities\" % self.p\n",
    "        if self.name == \"pcp\":\n",
    "            u1 = \"worst case distance with \"\n",
    "            u2 = \"%i selected facilities\" % self.p\n",
    "        if self.name == \"mclp\":\n",
    "            u1 = \"residents within %f meters of \" % self.s\n",
    "            u2 = \"%i selected facilities\" % self.p\n",
    "        units = u1 + u2\n",
    "\n",
    "        print(\"Obj. Value:\", self.obj_val, units)\n",
    "\n",
    "        if self.name == \"pmp\":\n",
    "            print(\"Mean weighted distance per\", \"person: %f\" % self.mean_dist)\n",
    "        if self.name == \"mclp\":\n",
    "            print(\n",
    "                \"Percent of %i\" % self.ai_sum, \"clients covered: %f\" % self.perc_served\n",
    "            )\n",
    "\n",
    "        # coverage values\n",
    "        if self.name == \"lscp\" or self.name == \"mclp\":\n",
    "            for ncov, ncli in self.ncov2ncli.items():\n",
    "                if ncov == 0:\n",
    "                    print(\"--- %i clients are not covered\" % ncli)\n",
    "                else:\n",
    "                    if ncov == 1:\n",
    "                        sp = \"y\"\n",
    "                    else:\n",
    "                        sp = \"ies\"\n",
    "                    print(\n",
    "                        \"--- %i clients are covered\" % ncli,\n",
    "                        \"by %i\" % ncov,\n",
    "                        \"facilit\" + sp,\n",
    "                    )\n"
   ]
  },
  {
   "cell_type": "code",
   "execution_count": null,
   "id": "1cf1ac17",
   "metadata": {},
   "outputs": [],
   "source": [
    "def add_results(model, cli_df, fac_df, print_solution=False):\n",
    "    \"\"\"Add decision variable relationships to a dataframe.\n",
    "    Parameters\n",
    "    ----------\n",
    "    model : ortools.linear_solver.pywraplp.Solver\n",
    "        proxy of <Swig Object of type 'operations_research::MPSolver *'\n",
    "    cli_df : geopandas.GeoDataFrame\n",
    "        GeoDataFrame of client locations\n",
    "    fac_df : geopandas.GeoDataFrame\n",
    "        GeoDataFrame of facility locations\n",
    "    print_solution : bool\n",
    "        print out solution decision variables. Default is False.\n",
    "    Returns\n",
    "    -------\n",
    "    cli_df : geopandas.GeoDataFrame\n",
    "        updated client locations\n",
    "    fac_df : geopandas.GeoDataFrame\n",
    "        updated facility locations\n",
    "    \"\"\"\n",
    "    col_name = model.name + \"_sol\"\n",
    "    fillers = [[cli_df, \"cli2fac\"], [fac_df, \"fac2cli\"]]\n",
    "    for df, attr in fillers:\n",
    "        df[col_name] = df[\"dv\"].map(getattr(model, attr))\n",
    "        df[col_name].fillna(\"closed\", inplace=True)\n",
    "    if print_solution:\n",
    "        selected = fac_df[fac_df[col_name] != \"closed\"]\n",
    "        for idx in selected.index:\n",
    "            print(\"\")\n",
    "            print(selected.loc[idx, \"dv\"], \"serving:\", selected.loc[idx, col_name])\n",
    "    return cli_df, fac_df"
   ]
  },
  {
   "cell_type": "code",
   "execution_count": null,
   "id": "f6d039e5",
   "metadata": {},
   "outputs": [],
   "source": [
    "def plotter(\n",
    "    fig=None,\n",
    "    base=None,\n",
    "    plot_aux=None,\n",
    "    buffered=None,\n",
    "    model=None,\n",
    "    pt1_size=None,\n",
    "    pt2_size=None,\n",
    "    plot_res=None,\n",
    "    save_fig=False,\n",
    "    title=None,\n",
    "    figsize=(10, 10),\n",
    "):\n",
    "    \"\"\" Top-level scenario plotter for location analytics.\n",
    "    Parameters\n",
    "    ----------\n",
    "    fig : matplotlib.figure.Figure\n",
    "        complete figure to plot. Default is None.\n",
    "    base : matplotlib.axes._subplots.AxesSubplot\n",
    "        individual axis to plot. Default is None.\n",
    "    plot_aux : dict\n",
    "        model data parameters dataframes to plot keyed by\n",
    "        descriptive names. Default is None.\n",
    "    plot_res : dict\n",
    "        model data results dataframes to plot keyed by\n",
    "        descriptive names. Default is None.\n",
    "    buffered : see\n",
    "        buffer distance from roads segments in `plot_base`.\n",
    "        Default is None.\n",
    "    pt1_size : float or float\n",
    "        size of points to plot. `pt1_size` should always be the\n",
    "        larger between `pt2_size` and `pt1_size`. Default is None.\n",
    "    pt2_size : float or float\n",
    "        size of points to plot. Default is None.\n",
    "    model : ortools.linear_solver.pywraplp.Solver\n",
    "        proxy of <Swig Object of type 'operations_research::MPSolver *'\n",
    "    title : str\n",
    "        plot title. Default is None.\n",
    "    figsize : tuple\n",
    "        Figure size for plot. Default is (12,12).\n",
    "    save_fig : bool\n",
    "        Default is False.\n",
    "    Returns\n",
    "    -------\n",
    "    add_to_legend : list\n",
    "        items to add to legend\n",
    "    \"\"\"\n",
    "    for_multiplot = True\n",
    "    if not fig and not base:\n",
    "        for_multiplot = False\n",
    "        fig, base = plt.subplots(1, 1, figsize=figsize)\n",
    "\n",
    "    # add title\n",
    "    if not for_multiplot:\n",
    "        if model:\n",
    "            title += \" - \" + model.name\n",
    "        base.set_title(title, size=20)\n",
    "    else:\n",
    "        base.set_title(model.name, size=20)\n",
    "\n",
    "    # plot non-results data\n",
    "    if plot_aux:\n",
    "        for k, df in plot_aux.items():\n",
    "            if k == \"streets\":\n",
    "                df.plot(ax=base, lw=2, edgecolor=\"k\", zorder=1,color='dimgray')\n",
    "            if k == \"buffer\":\n",
    "                df.plot(ax=base, facecolor=\"y\", lw=0.25, alpha=0.25, zorder=1)\n",
    "            if k == \"cli_tru\":\n",
    "                if plot_res:\n",
    "                    df = df[df[model.name + \"_sol\"] == \"closed\"]\n",
    "                    psize = pt2_size / 6.0\n",
    "                    pcolor = \"k\"\n",
    "                else:\n",
    "                    n_cli = df.shape[0]\n",
    "                    psize = pt1_size\n",
    "                    pcolor = \"r\"\n",
    "                df.plot(ax=base, markersize=psize, edgecolor=\"k\", facecolor=pcolor)\n",
    "            if k == \"fac_tru\":\n",
    "                if plot_res:\n",
    "                    df = df[df[model.name + \"_sol\"] == \"closed\"]\n",
    "                    psize = pt2_size\n",
    "                    pcolor = \"k\"\n",
    "                    pmarker = \"*\"\n",
    "                else:\n",
    "                    n_cli = df.shape[0]\n",
    "                    psize = pt1_size\n",
    "                    pcolor = \"b\"\n",
    "                    pmarker = \"o\"\n",
    "                df.plot(\n",
    "                    ax=base,\n",
    "                    markersize=psize,\n",
    "                    edgecolor=\"k\",\n",
    "                    facecolor=pcolor,\n",
    "                    marker=pmarker,\n",
    "                )\n",
    "                n_fac = df.shape[0]\n",
    "            if k == \"cli_snp\":\n",
    "                df.plot(\n",
    "                    ax=base,\n",
    "                    markersize=pt2_size,\n",
    "                    edgecolor=\"k\",\n",
    "                    facecolor=\"r\",\n",
    "                    alpha=0.75,\n",
    "                )\n",
    "            if k == \"fac_snp\":\n",
    "                df.plot(\n",
    "                    ax=base,\n",
    "                    markersize=pt2_size,\n",
    "                    edgecolor=\"k\",\n",
    "                    facecolor=\"b\",\n",
    "                    alpha=0.75,\n",
    "                )\n",
    "        add_to_legend = list(plot_aux.keys())\n",
    "    else:\n",
    "        add_to_legend = None\n",
    "\n",
    "    # plot results data\n",
    "    if plot_res:\n",
    "        dv_colors = dv_colorset(plot_res[\"fac_var\"].dv)\n",
    "        # facilities\n",
    "        df = plot_res[\"fac_var\"][plot_res[\"fac_var\"][model.name + \"_sol\"] != \"closed\"]\n",
    "        alpha = 1.0 / float(len(df.dv))\n",
    "        if alpha > 0.5:\n",
    "            alpha = 0.5\n",
    "        # decision variable info for legend\n",
    "        dvs_to_leg = {}\n",
    "        # plot facilities\n",
    "        for dv in df.dv:\n",
    "            fac = df[df.dv == dv]\n",
    "            fac.plot(\n",
    "                ax=base,\n",
    "                marker=\"*\",\n",
    "                markersize=pt1_size * 3.0,\n",
    "                alpha=0.8,\n",
    "                zorder=3,\n",
    "                edgecolor=\"k\",\n",
    "                facecolor=dv_colors[dv],\n",
    "            )\n",
    "            # update decision variable info with set color\n",
    "            dvs_to_leg[dv] = {\"facecolor\": dv_colors[dv]}\n",
    "        # plot clients & service areas\n",
    "        for f, c in model.fac2cli.items():\n",
    "            fc = plot_res[\"cli_var\"][plot_res[\"cli_var\"].dv.isin(c)]\n",
    "            fc.plot(\n",
    "                ax=base,\n",
    "                markersize=50,\n",
    "                edgecolor=\"k\",\n",
    "                facecolor=dv_colors[f],\n",
    "                alpha=alpha,\n",
    "                zorder=2,\n",
    "            )\n",
    "            # update decision variable info with set client counts\n",
    "            dvs_to_leg[f].update({\"clients\": fc.shape[0]})\n",
    "            # create service area polygon\n",
    "            service_area = concave_hull(df, fc, f)\n",
    "            service_area.plot(\n",
    "                ax=base, edgecolor=\"k\", alpha=0.2, facecolor=dv_colors[f], zorder=1\n",
    "            )\n",
    "    else:\n",
    "        dvs_to_leg = None\n",
    "\n",
    "    if not model:\n",
    "\n",
    "        class _ShellModel:\n",
    "            \"\"\"Object to mimic `model` when not present.\"\"\"\n",
    "\n",
    "            def __init__(self, plot_aux):\n",
    "                try:\n",
    "                    self.n_cli = plot_aux[\"cli_tru\"].shape[0]\n",
    "                    try:\n",
    "                        self.n_fac = plot_aux[\"fac_tru\"].shape[0]\n",
    "                    except KeyError:\n",
    "                        pass\n",
    "                except KeyError:\n",
    "                    pass\n",
    "\n",
    "        try:\n",
    "            model = _ShellModel(plot_aux)\n",
    "        except (TypeError, KeyError):\n",
    "            model = None\n",
    "\n",
    "    if not for_multiplot:\n",
    "        # create legend patches\n",
    "        patches = create_patches(\n",
    "            model=model,\n",
    "            for_multiplot=for_multiplot,\n",
    "            pt1_size=pt1_size,\n",
    "            pt2_size=pt2_size,\n",
    "            buffered=buffered,\n",
    "            legend_aux=add_to_legend,\n",
    "            dvs_to_leg=dvs_to_leg,\n",
    "        )\n",
    "        add_legend(patches, for_multiplot=for_multiplot)\n",
    "    add_north_arrow(base)\n",
    "    add_scale(base)\n",
    "\n",
    "    if save_fig:\n",
    "        plt.savefig(model.name + \".png\")\n",
    "\n",
    "    # if for a multiplot explicityly return items to add to legend\n",
    "    if for_multiplot:\n",
    "        return add_to_legend"
   ]
  },
  {
   "cell_type": "code",
   "execution_count": null,
   "id": "64e7ccff",
   "metadata": {},
   "outputs": [],
   "source": [
    "def multi_plotter(\n",
    "    models,\n",
    "    plot_aux=None,\n",
    "    plot_res=None,\n",
    "    select=None,\n",
    "    title=None,\n",
    "    figsize=(14, 14),\n",
    "    shape=(2, 2),\n",
    "):\n",
    "    \"\"\"plot multiple base axes as one figure\n",
    "    Parameters\n",
    "    ----------\n",
    "    models : list\n",
    "        solved model objects\n",
    "    select : dict\n",
    "        facility-to-selection count lookup.\n",
    "    shape : tuple\n",
    "        dimension for subplot array. Default is (2,2).s\n",
    "    plot_aux : see plotter()\n",
    "    plot_res : see plotter()\n",
    "    title : see plotter()\n",
    "    figsize : see plotter()\n",
    "    \"\"\"\n",
    "    pt1_size, pt2_size = 300, 60\n",
    "    # convert list of models to array\n",
    "    mdls = numpy.array(models).reshape(shape)\n",
    "    fig, axarr = plt.subplots(\n",
    "        mdls.shape[0], mdls.shape[1], figsize=figsize, sharex=\"col\", sharey=\"row\"\n",
    "    )\n",
    "    # add super title to subplot array\n",
    "    plt.suptitle(title, fontsize=30)\n",
    "    fig.subplots_adjust(hspace=0.1, wspace=0.005, top=0.925)\n",
    "    # create each subplot\n",
    "    for i in range(mdls.shape[0]):\n",
    "        for j in range(mdls.shape[1]):\n",
    "            add_to_legend = plotter(\n",
    "                base=axarr[i, j],\n",
    "                plot_aux=plot_aux,\n",
    "                plot_res=plot_res,\n",
    "                model=mdls[i, j],\n",
    "                pt1_size=pt1_size,\n",
    "                pt2_size=pt2_size,\n",
    "            )\n",
    "            axarr[i, j].set_aspect(\"equal\")\n",
    "    add_to_legend = set(add_to_legend)\n",
    "    # decision variable color set\n",
    "    dv_colors = dv_colorset(plot_res[\"fac_var\"].dv)\n",
    "    dvs_to_leg = {f: dv_colors[f] for m in models for f in m.fac2cli.keys()}\n",
    "    # set ordered dict of {iloc:fac_var, color, x-selected}\n",
    "    # *** models[0] can be any of the solved models\n",
    "    dvs_to_leg = {\n",
    "        models[0].fac2iloc[k]: (k, v, select[k]) for k, v in dvs_to_leg.items()\n",
    "    }\n",
    "    dvs_to_leg = OrderedDict(sorted(dvs_to_leg.items()))\n",
    "    # create legend patches\n",
    "    patches = create_patches(\n",
    "        model=None,\n",
    "        pt1_size=pt1_size,\n",
    "        pt2_size=pt2_size,\n",
    "        legend_aux=add_to_legend,\n",
    "        dvs_to_leg=dvs_to_leg,\n",
    "        for_multiplot=True,\n",
    "    )\n",
    "    add_legend(patches, for_multiplot=True)"
   ]
  },
  {
   "cell_type": "code",
   "execution_count": null,
   "id": "cf982eee",
   "metadata": {},
   "outputs": [],
   "source": [
    "def add_north_arrow(base):\n",
    "    \"\"\"add a north arrow to an axes\n",
    "    Parameters\n",
    "    ----------\n",
    "    base : see plotter()\n",
    "    \"\"\"\n",
    "    arw = \"rarrow, pad=0.25\"\n",
    "    bbox_props = dict(boxstyle=arw, fc=\"w\", ec=\"k\", lw=2, alpha=0.75)\n",
    "    base.text(\n",
    "        221200,\n",
    "        267200,\n",
    "        \"      z    \",\n",
    "        bbox=bbox_props,\n",
    "        fontsize=\"large\",\n",
    "        fontweight=\"heavy\",\n",
    "        ha=\"center\",\n",
    "        va=\"center\",\n",
    "        rotation=90,\n",
    "    )"
   ]
  },
  {
   "cell_type": "code",
   "execution_count": null,
   "id": "310c2bfd",
   "metadata": {},
   "outputs": [],
   "source": [
    "def add_scale(base):\n",
    "    \"\"\"add a scale bar to an axes\n",
    "    Parameters\n",
    "    ----------\n",
    "    base : see plotter()\n",
    "    \"\"\"\n",
    "    scalebar = ScaleBar(1, units=\"m\", location=\"lower left\")\n",
    "    base.add_artist(scalebar)\n",
    "    base.set(xticklabels=[], xticks=[], yticklabels=[], yticks=[]);"
   ]
  },
  {
   "cell_type": "code",
   "execution_count": null,
   "id": "15b63926",
   "metadata": {},
   "outputs": [],
   "source": [
    "def create_patches(\n",
    "    model=None,\n",
    "    pt1_size=None,\n",
    "    pt2_size=None,\n",
    "    buffered=None,\n",
    "    legend_aux=None,\n",
    "    dvs_to_leg=None,\n",
    "    for_multiplot=False,\n",
    "):\n",
    "    \"\"\"create all patches to add to the legend.\n",
    "    Parameters\n",
    "    ----------\n",
    "    for_multiplot : bool\n",
    "        for a single plot (True), or multiplot (False).\n",
    "        Default is False.\n",
    "    model : see plotter()\n",
    "    pt1_size : see plotter()\n",
    "    pt2_size : see plotter()\n",
    "    buffered : see plotter()\n",
    "    legend_aux : see plotter()\n",
    "    dvs_to_leg : see plotter()\n",
    "    Returns\n",
    "    -------\n",
    "    patches : list\n",
    "        legend handles matching plotted items\n",
    "    \"\"\"\n",
    "    if pt1_size:\n",
    "        ms1 = float(pt1_size) / 6.0\n",
    "    if pt2_size:\n",
    "        ms2 = float(pt2_size) / 8.0\n",
    "    # streets -- always plot\n",
    "    strs = mlines.Line2D([], [], color=\"k\", linewidth=2, alpha=1, label=\"Streets\")\n",
    "    # all patches to add to legend\n",
    "    patches = [strs]\n",
    "    # non-results data\n",
    "    if legend_aux:\n",
    "        if \"buffer\" in legend_aux:\n",
    "            label = \"Street buffer (%sm)\" % buffered\n",
    "            strbuff = mpatches.Patch(\n",
    "                edgecolor=\"None\", facecolor=\"y\", linewidth=2, alpha=0.5, label=label\n",
    "            )\n",
    "            patches.append(strbuff)\n",
    "        if \"cli_tru\" in legend_aux:\n",
    "            try:\n",
    "                if dvs_to_leg:\n",
    "                    pcolor = \"k\"\n",
    "                    msize = ms2 / 3.0\n",
    "                    plabel = \"Uncovered Households \" + \"($n$=%i)\" % model.n_cli_uncov\n",
    "                else:\n",
    "                    pcolor = \"r\"\n",
    "                    msize = ms1\n",
    "                    plabel = \"Households ($n$=%i)\" % model.n_cli\n",
    "                cli_tru = mlines.Line2D(\n",
    "                    [],\n",
    "                    [],\n",
    "                    color=pcolor,\n",
    "                    marker=\"o\",\n",
    "                    ms=msize,\n",
    "                    linewidth=0,\n",
    "                    alpha=1,\n",
    "                    markeredgecolor=\"k\",\n",
    "                    label=plabel,\n",
    "                )\n",
    "                patches.append(cli_tru)\n",
    "            except AttributeError:\n",
    "                pass\n",
    "        if \"fac_tru\" in legend_aux:\n",
    "            if dvs_to_leg:\n",
    "                pcolor = \"k\"\n",
    "                msize = ms2\n",
    "                pmarker = \"*\"\n",
    "                no_fac = model.n_fac - len(list(model.fac2cli.keys()))\n",
    "                plabel = \"Unselected Facilities ($n$=%i)\" % no_fac\n",
    "            else:\n",
    "                pcolor = \"b\"\n",
    "                msize = ms1\n",
    "                pmarker = \"o\"\n",
    "                plabel = \"Little Free Library candidates\" + \"($n$=%i)\" % model.n_fac\n",
    "            fac_tru = mlines.Line2D(\n",
    "                [],\n",
    "                [],\n",
    "                color=pcolor,\n",
    "                marker=pmarker,\n",
    "                ms=msize,\n",
    "                markeredgecolor=\"k\",\n",
    "                linewidth=0,\n",
    "                alpha=1,\n",
    "                label=plabel,\n",
    "            )\n",
    "            patches.append(fac_tru)\n",
    "        if \"cli_snp\" in legend_aux:\n",
    "            label = \"Households snapped to network\"\n",
    "            cli_snp = mlines.Line2D(\n",
    "                [],\n",
    "                [],\n",
    "                color=\"r\",\n",
    "                marker=\"o\",\n",
    "                ms=ms2,\n",
    "                linewidth=0,\n",
    "                alpha=1,\n",
    "                markeredgecolor=\"k\",\n",
    "                label=label,\n",
    "            )\n",
    "            patches.append(cli_snp)\n",
    "        if \"fac_snp\" in legend_aux:\n",
    "            label = \"LFL candidates snapped to network\"\n",
    "            fac_snp = mlines.Line2D(\n",
    "                [],\n",
    "                [],\n",
    "                color=\"b\",\n",
    "                marker=\"o\",\n",
    "                ms=ms2,\n",
    "                markeredgecolor=\"k\",\n",
    "                linewidth=0,\n",
    "                alpha=1,\n",
    "                label=label,\n",
    "            )\n",
    "            patches.append(fac_snp)\n",
    "    # results data for single plot\n",
    "    if dvs_to_leg and not for_multiplot:\n",
    "        # add facility, client, and service area patches to legend\n",
    "        for k, v in dvs_to_leg.items():\n",
    "            fdv_label = \"Little Free Library %s\" % k\n",
    "            fdv = mlines.Line2D(\n",
    "                [],\n",
    "                [],\n",
    "                color=v[\"facecolor\"],\n",
    "                marker=\"*\",\n",
    "                ms=ms1 / 2.0,\n",
    "                markeredgecolor=\"k\",\n",
    "                linewidth=0,\n",
    "                alpha=0.8,\n",
    "                label=fdv_label,\n",
    "            )\n",
    "            cdv_label = \"Households served by %s \" % k + \"($n$=%i)\" % v[\"clients\"]\n",
    "            cdv = mlines.Line2D(\n",
    "                [],\n",
    "                [],\n",
    "                color=v[\"facecolor\"],\n",
    "                marker=\"o\",\n",
    "                ms=ms1 / 6.0,\n",
    "                markeredgecolor=\"k\",\n",
    "                linewidth=0,\n",
    "                alpha=0.5,\n",
    "                label=cdv_label,\n",
    "            )\n",
    "            serv_label = \"%s service area\" % k\n",
    "            serv = mpatches.Patch(\n",
    "                edgecolor=\"k\",\n",
    "                facecolor=v[\"facecolor\"],\n",
    "                linewidth=2,\n",
    "                alpha=0.25,\n",
    "                label=serv_label,\n",
    "            )\n",
    "            patches.extend([fdv, cdv, serv])\n",
    "    # results data for multiplot\n",
    "    if dvs_to_leg and for_multiplot:\n",
    "        for idx, (k, v, n) in dvs_to_leg.items():\n",
    "            fdv = mlines.Line2D(\n",
    "                [],\n",
    "                [],\n",
    "                color=v,\n",
    "                marker=\"*\",\n",
    "                ms=ms1 / 2,\n",
    "                markeredgecolor=\"k\",\n",
    "                linewidth=0,\n",
    "                alpha=0.8,\n",
    "                label=\"%s ($n$=%i)\" % (k, n),\n",
    "            )\n",
    "            patches.append(fdv)\n",
    "    return patches"
   ]
  },
  {
   "cell_type": "code",
   "execution_count": null,
   "id": "d0967ea1",
   "metadata": {},
   "outputs": [],
   "source": [
    "def dv_colorset(dvs):\n",
    "    \"\"\"decision variables color set\n",
    "    Parameters\n",
    "    ---------\n",
    "    dvs : geopandas.GeoSeries\n",
    "        facility decision variables\n",
    "    Returns\n",
    "    -------\n",
    "    dv_colors : dict\n",
    "        decision variable to set color lookup\n",
    "    \"\"\"\n",
    "    dv_colors = [\n",
    "        \"firebrick\",\n",
    "        \"silver\",\n",
    "        \"mediumseagreen\",\n",
    "        \"blueviolet\",\n",
    "        \"aqua\",\n",
    "        \"crimson\",\n",
    "        \"cyan\",\n",
    "        \"limegreen\",\n",
    "        \"snow\",\n",
    "        \"mintcream\",\n",
    "        \"lemonchiffon\",\n",
    "        \"lightcoral\",\n",
    "        \"peachpuff\",\n",
    "        \"mediumvioletred\",\n",
    "        \"salmon\",\n",
    "        \"rebeccapurple\",\n",
    "        \"rebeccapurple\",\n",
    "        \"ivory\",\n",
    "        \"lavenderblush\",\n",
    "        \"deeppink\",\n",
    "        \"darkmagenta\",\n",
    "        \"olive\",\n",
    "        \"indigo\",\n",
    "        \"cornsilk\",\n",
    "        \"cornflowerblue\",\n",
    "        \"red\",\n",
    "        \"cadetblue\",\n",
    "        'plum',\n",
    "        'springgreen',\n",
    "        'dodgerblue',\n",
    "        'palevioletred',\n",
    "        'hotpink',\n",
    "        'darkviolet',\n",
    "        'mediumslateblue',\n",
    "        'navy',\n",
    "        'midnightblue',\n",
    "        'cornflowerblue',\n",
    "        'aliceblue',\n",
    "        'steelblue',\n",
    "        'darkcyan',\n",
    "        'teal',\n",
    "        'darkcyan',\n",
    "        'azure',\n",
    "        'aquamarine',\n",
    "        'mintcream',    \n",
    "    ]\n",
    "    \n",
    "\n",
    "    dv_colors = {dv: dv_colors[idx] for idx, dv in enumerate(dvs)}\n",
    "    return dv_colors"
   ]
  },
  {
   "cell_type": "code",
   "execution_count": null,
   "id": "3d63db81",
   "metadata": {},
   "outputs": [],
   "source": [
    "def get_buffer(in_data, buff=50):\n",
    "    \"\"\" geopandas.GeoDataFrame should be in a meters projection.\n",
    "    Parameters\n",
    "    ----------\n",
    "    in_data : geopandas.GeoDataFrame\n",
    "        GeoDataFrame of a shapefile representing a road network.\n",
    "    buff : int or float\n",
    "        Desired buffer distance. Default is 50 (meters).\n",
    "    Returns\n",
    "    -------\n",
    "    out_data : geopandas.GeoDataFrame\n",
    "        Single polygon of the unioned street buffers.\n",
    "    \"\"\"\n",
    "    b1 = in_data.buffer(buff)  # Buffer\n",
    "    ub = b1.unary_union  # Buffer Union\n",
    "    b2 = geopandas.GeoSeries(ub)\n",
    "    out_data = geopandas.GeoDataFrame(b2, crs=in_data.crs, columns=[\"geometry\"])\n",
    "    return out_data"
   ]
  },
  {
   "cell_type": "markdown",
   "id": "d81bf222",
   "metadata": {},
   "source": [
    "### 픽셀 사이즈 떄문에 에러 발생시켜서 사용하지 않음\n",
    "```\n",
    "def add_legend(patches, for_multiplot=False):\n",
    "    \n",
    "    Add a legend to a plot\n",
    "    Parameters\n",
    "    ----------\n",
    "    patches : list\n",
    "        legend handles matching plotted items\n",
    "    for_multiplot : create_patches\n",
    "    \n",
    "    if for_multiplot:\n",
    "        anchor = (1.1, 1.65)\n",
    "    else:\n",
    "        anchor = (1.005, 1.016)\n",
    "    legend = plt.legend(\n",
    "        handles=patches,\n",
    "        loc=\"upper left\",\n",
    "        fancybox=True,\n",
    "        framealpha=0.85,\n",
    "        bbox_to_anchor=anchor,\n",
    "        fontsize=\"x-large\",\n",
    "        labelspacing=1.5,\n",
    "        borderpad=2.\n",
    "    )\n",
    "    legend.get_frame().set_facecolor(\"white\")\n",
    "```"
   ]
  },
  {
   "cell_type": "markdown",
   "id": "4c9a328f",
   "metadata": {},
   "source": [
    "## Utilizing libpysal.cg.alpha_shapes"
   ]
  },
  {
   "cell_type": "code",
   "execution_count": null,
   "id": "765b03e9",
   "metadata": {},
   "outputs": [],
   "source": [
    "def concave_hull(fac_df, cli_df, f, smoother=10):\n",
    "    \"\"\"Create `libpysal.cg.alpha_shape_auto()` object\n",
    "    for service area representation.\n",
    "    Parameters\n",
    "    ----------\n",
    "    fac_df : geopandas.GeoDataFrame\n",
    "        GeoDataFrame of facility locations.\n",
    "    cli_df : geopandas.GeoDataFrame\n",
    "        GeoDataFrame of client locations.\n",
    "    f : str\n",
    "        facility decision variable name.\n",
    "    smoother : float or int\n",
    "        buffer (meters). Default is 10.\n",
    "    Returns\n",
    "    -------\n",
    "    ccv :  geopandas.GeoDataFrame\n",
    "        polygon representing facility service area\n",
    "    \"\"\"\n",
    "    # client location coordinates\n",
    "    c_array = numpy.array(\n",
    "        cli_df.geometry.apply(lambda pt: [pt.x, pt.y]).squeeze().tolist()\n",
    "    )\n",
    "    # facility location coordinates\n",
    "    f_array = numpy.array(\n",
    "        fac_df[fac_df.dv == f].geometry.apply(lambda pt: [pt.x, pt.y]).squeeze()\n",
    "    )\n",
    "    # coordinates of all location in the set\n",
    "    pts_array = numpy.vstack((c_array, f_array))\n",
    "    # create alpha shape (concave hull)\n",
    "    ccv = cg.alpha_shape_auto(pts_array, step=4)\n",
    "    ccv = geopandas.GeoDataFrame([ccv.buffer(smoother)], columns=[\"geometry\"])\n",
    "    return ccv"
   ]
  },
  {
   "cell_type": "code",
   "execution_count": null,
   "id": "9d80baa9",
   "metadata": {},
   "outputs": [],
   "source": [
    "def simulated_geo_points(in_data, needed=20, seed=0, to_file=None):\n",
    "    \"\"\"Generate synthetic spatial data points within an area.\n",
    "    Parameters\n",
    "    ----------\n",
    "    in_data : geopandas.GeoDataFrame\n",
    "        A single polygon of the unioned street buffers.\n",
    "    needed : int\n",
    "        Number of points in the buffer. Default is 20.\n",
    "    seed : int\n",
    "        Seed for pseudo-random number generation. Default is 0.\n",
    "    to_file : str\n",
    "        File name for write out.\n",
    "    Returns\n",
    "    -------\n",
    "    sim_pts : geopandas.GeoDataFrame\n",
    "        Points within the buffer.\n",
    "    \"\"\"\n",
    "    geoms = in_data.geometry\n",
    "    area = tuple(in_data.total_bounds)\n",
    "    simulated_points_list = []\n",
    "    simulated_points_all = False\n",
    "    numpy.random.seed(seed)\n",
    "    while simulated_points_all == False:\n",
    "        x = numpy.random.uniform(area[0], area[2], 1)\n",
    "        y = numpy.random.uniform(area[1], area[3], 1)\n",
    "        point = Point(x, y)\n",
    "        if geoms.intersects(point)[0]:\n",
    "            simulated_points_list.append(point)\n",
    "        if len(simulated_points_list) == needed:\n",
    "            simulated_points_all = True\n",
    "    sim_pts = geopandas.GeoDataFrame(\n",
    "        simulated_points_list, columns=[\"geometry\"], crs=in_data.crs\n",
    "    )\n",
    "    if to_file:\n",
    "        sim_pts.to_file(to_file + \".shp\")\n",
    "    return sim_pts"
   ]
  },
  {
   "cell_type": "code",
   "execution_count": null,
   "id": "a00a7ef5",
   "metadata": {},
   "outputs": [],
   "source": [
    "def analytics_matrix(mdls):\n",
    "    \"\"\"Create stylized dataframe visualization of distance analytics.\n",
    "    Parameters\n",
    "    ----------\n",
    "    mdls : models\n",
    "        all modeling scenarios\n",
    "    Returns\n",
    "    -------\n",
    "    df : geopandas.GeoDataFrame\n",
    "        distance analytics matrix\n",
    "    style : pandas.io.formats.style.Styler\n",
    "        style dataframe view\n",
    "    \"\"\"\n",
    "    model_names = [m.name for m in mdls]\n",
    "    boiler = \" to assigned facility\"\n",
    "    stats = {\n",
    "        \"abs_min\": \"Absolute min dist\" + boiler,\n",
    "        \"abs_max\": \"Absolute max dist\" + boiler,\n",
    "        \"mean_means\": \"Mean of mean dists per client\" + boiler,\n",
    "        \"mean_stds\": \"Mean of StD dists per client\" + boiler,\n",
    "    }\n",
    "    # instantiate dataframe\n",
    "    df = geopandas.GeoDataFrame()\n",
    "    df[\"stats\"] = list(stats.keys())\n",
    "    for n in model_names:\n",
    "        df[n] = numpy.nan\n",
    "    # calculate stat for each model\n",
    "    for m in mdls:\n",
    "        mins, maxs, stds, means = [], [], [], []\n",
    "        for f, cs in m.fac2cli.items():\n",
    "            rows = numpy.array([m.cli2iloc[c] for c in cs])\n",
    "            col = numpy.array([m.fac2iloc[f]])\n",
    "            dists = m.cij[rows[:, None], col]\n",
    "            mins.append(dists.min()), maxs.append(dists.max()),\n",
    "            stds.append(dists.std()), means.append(dists.mean())\n",
    "        # fill cells\n",
    "        calcs = [\n",
    "            numpy.array(mins).min(),\n",
    "            numpy.array(maxs).max(),\n",
    "            numpy.array(means).mean(),\n",
    "            numpy.array(stds).mean(),\n",
    "        ]\n",
    "        label_calc = {k: calcs[idx] for idx, k in enumerate(list(stats.keys()))}\n",
    "        for k, v in label_calc.items():\n",
    "            df.loc[(df[\"stats\"] == k), m.name] = v\n",
    "    # stylize\n",
    "    cm = seaborn.light_palette(\"green\", as_cmap=True, reverse=True)\n",
    "    style = df.style.set_caption(stats).background_gradient(\n",
    "        axis=1, cmap=cm, subset=model_names\n",
    "    )\n",
    "    return df, style"
   ]
  },
  {
   "cell_type": "code",
   "execution_count": null,
   "id": "9db7e274",
   "metadata": {},
   "outputs": [],
   "source": [
    "def selection_matrix(mdls):\n",
    "    \"\"\"create stylized dataframe visualization of selected decision variables.\n",
    "    Parameters\n",
    "    ----------\n",
    "    mdls : models\n",
    "        all modeling scenarios\n",
    "    Returns\n",
    "    -------\n",
    "    df : geopandas.GeoDataFrame\n",
    "        variable selection matrix\n",
    "    style : pandas.io.formats.style.Styler\n",
    "        style dataframe view\n",
    "    \"\"\"\n",
    "\n",
    "    def _highlight_membership(s):\n",
    "        \"\"\"highlight set membership in pandas.DataFrame.\"\"\"\n",
    "        return [\"background-color: limegreen\" if v == \"$\\in$\" else \"\" for v in s]\n",
    "\n",
    "    # set index and coluns in empty dataframe\n",
    "    var_index = [v.name() for k, v in models[0].fac_vars.items()]\n",
    "    df = geopandas.GeoDataFrame(index=var_index, columns=[m.name for m in models])\n",
    "    # if site was selected in a model label with\n",
    "    # latex symbol for 'element of a set' ($\\in$)\n",
    "    for m in models:\n",
    "        for f in df.index:\n",
    "            if f in list(m.fac2cli.keys()):\n",
    "                df.loc[f, m.name] = \"$\\in$\"\n",
    "    # label all other cells with latex ($\\\\notin$)\n",
    "    df.fillna(\"$\\\\notin$\", inplace=True)\n",
    "    for idx in df.index:\n",
    "        sel = df.loc[idx][df.loc[idx] == \"$\\in$\"].shape[0]\n",
    "        df.loc[idx, \"$\\sum$\"] = sel\n",
    "        df.loc[idx, \"$\\%$\"] = (float(sel) / float(4)) * 100.0\n",
    "    # stylize\n",
    "    cm = seaborn.light_palette(\"green\", as_cmap=True)\n",
    "    style = df.style.apply(_highlight_membership).background_gradient(\n",
    "        cmap=cm, subset=[\"$\\sum$\", \"$\\%$\"]\n",
    "    )\n",
    "    return df, style\n"
   ]
  },
  {
   "cell_type": "markdown",
   "id": "eb8b1804",
   "metadata": {},
   "source": [
    "# Geopandas Data\n",
    "## 서울시 shp\n",
    "- road = 도로 shape파일  \n",
    "- emd = 읍면동 shape파일  \n",
    "- sig = 시군구 shape파일"
   ]
  },
  {
   "cell_type": "code",
   "execution_count": null,
   "id": "6951c4e6",
   "metadata": {},
   "outputs": [],
   "source": [
    "# 도로shp 파일 불러오기\n",
    "road = geopandas.read_file('data/seoul/Z_KAIS_TL_SPRD_MANAGE_11000.shp',encoding = 'ANSI')\n",
    "#SHP 파일 geometry 좌표변환\n",
    "road = road.to_crs(epsg=5179)"
   ]
  },
  {
   "cell_type": "code",
   "execution_count": null,
   "id": "5621ffbf",
   "metadata": {},
   "outputs": [],
   "source": [
    "# 읍면동 시군구 shp 파일 불러오기\n",
    "emd = geopandas.read_file('data/EMD_202101/TL_SCCO_EMD.shp',encoding = 'ANSI')\n",
    "sig = geopandas.read_file('data/SIG_202101/TL_SCCO_SIG.shp',encoding = 'ANSI')\n",
    "display(emd.head())\n",
    "display(sig.head())"
   ]
  },
  {
   "cell_type": "markdown",
   "id": "167865b3",
   "metadata": {},
   "source": [
    "## 서울시 음식점 clients\n",
    "- 파일 불러오기\n",
    "- geodf 변환"
   ]
  },
  {
   "cell_type": "code",
   "execution_count": null,
   "id": "5c0091b0",
   "metadata": {},
   "outputs": [],
   "source": [
    "fdshop = pd.read_csv('refined/fdshop_parking.csv',encoding='ANSI')\n",
    "display(fdshop.head())\n",
    "fdshop.shape"
   ]
  },
  {
   "cell_type": "code",
   "execution_count": null,
   "id": "cbbf009d",
   "metadata": {},
   "outputs": [],
   "source": [
    "#가져온 데이터가 기존에 5179좌표계여서 set_crs만 진행\n",
    "fdshop = geopandas.GeoDataFrame(fdshop, geometry=geopandas.points_from_xy(fdshop['utmk_x'], fdshop['utmk_y']))\n",
    "fdshop.set_crs(epsg = 5179, inplace = True)\n",
    "fdshop.head(2)"
   ]
  },
  {
   "cell_type": "markdown",
   "id": "ddbdf6d7",
   "metadata": {},
   "source": [
    "## 공공공지 facility"
   ]
  },
  {
   "cell_type": "code",
   "execution_count": null,
   "id": "1f48e64c",
   "metadata": {},
   "outputs": [],
   "source": [
    "gong = pd.read_csv('refined/gong_top6.csv',encoding = 'utf-8')\n",
    "display(gong.head())\n",
    "gong.shape"
   ]
  },
  {
   "cell_type": "code",
   "execution_count": null,
   "id": "923add79",
   "metadata": {},
   "outputs": [],
   "source": [
    "#가져온 데이터가 기존에 5179좌표계여서 set_crs만 진행\n",
    "gong = geopandas.GeoDataFrame(gong, geometry=geopandas.points_from_xy(gong['x'], gong['y']))\n",
    "gong.set_crs(epsg = 5179, inplace = True)\n",
    "gong.head(2)"
   ]
  },
  {
   "cell_type": "markdown",
   "id": "55b25d8a",
   "metadata": {},
   "source": [
    "# 입지모델 \n",
    "## 강남구"
   ]
  },
  {
   "cell_type": "markdown",
   "id": "fd525f92",
   "metadata": {},
   "source": [
    "### 구 추출\n",
    "- 행정구 코드 베이스로 추출 진행"
   ]
  },
  {
   "cell_type": "code",
   "execution_count": null,
   "id": "02952109",
   "metadata": {
    "scrolled": true
   },
   "outputs": [],
   "source": [
    "gangnam_streets = road[road['SIG_CD'].str.startswith('11680')]"
   ]
  },
  {
   "cell_type": "code",
   "execution_count": null,
   "id": "c373c221",
   "metadata": {},
   "outputs": [],
   "source": [
    "gangnam_clients = fdshop[fdshop['sigungu']=='강남구']\n",
    "gangnam_clients.shape"
   ]
  },
  {
   "cell_type": "code",
   "execution_count": null,
   "id": "589c89a7",
   "metadata": {},
   "outputs": [],
   "source": [
    "gangnam_facility = gong[gong['hangjunggu']=='강남구']"
   ]
  },
  {
   "cell_type": "code",
   "execution_count": null,
   "id": "57e24062",
   "metadata": {
    "scrolled": true
   },
   "outputs": [],
   "source": [
    "fig,ax = plt.subplots(1,3,figsize=(45,15))\n",
    "gangnam_clients.plot(color='blue',ax=ax[0])\n",
    "gangnam_streets.plot(color='grey',ax=ax[1])\n",
    "gangnam_facility.plot(color='red',ax=ax[2])"
   ]
  },
  {
   "cell_type": "markdown",
   "id": "c4867096",
   "metadata": {},
   "source": [
    "### 세팅"
   ]
  },
  {
   "cell_type": "code",
   "execution_count": null,
   "id": "c68028ea",
   "metadata": {},
   "outputs": [],
   "source": [
    "# 고객수, 필요 설치개수 = x,y\n",
    "client_count, facility_count = gangnam_clients.shape[0],gangnam_facility.shape[0]\n",
    "# plot 제목\n",
    "title = \"Gangnam Neighborhood X\""
   ]
  },
  {
   "cell_type": "code",
   "execution_count": null,
   "id": "e6d8ff1d",
   "metadata": {
    "scrolled": true
   },
   "outputs": [],
   "source": [
    "buff = 20\n",
    "streets_buffer = get_buffer(gangnam_streets, buff=buff)"
   ]
  },
  {
   "cell_type": "code",
   "execution_count": null,
   "id": "e231d0bb",
   "metadata": {},
   "outputs": [],
   "source": [
    "streets = gangnam_streets\n",
    "#구분자 삽입\n",
    "clients = gangnam_clients\n",
    "clients[\"dv\"] = [\"x[%s]\" % c for c in range(client_count)]\n",
    "#구분자 삽입\n",
    "facilities = gangnam_facility\n",
    "facilities[\"dv\"] = [\"y[%s]\" % c for c in range(facility_count)]\n",
    "\n",
    "display(clients.head(2))\n",
    "display(facilities.head())"
   ]
  },
  {
   "cell_type": "code",
   "execution_count": null,
   "id": "fa6a81df",
   "metadata": {},
   "outputs": [],
   "source": [
    "add_to_plot = {\n",
    "    \"streets\": streets,\n",
    "    \"buffer\": streets_buffer,\n",
    "    \"cli_tru\": clients,\n",
    "    \"fac_tru\": facilities,\n",
    "}\n",
    "\n",
    "plotter(plot_aux=add_to_plot, buffered=buff, pt1_size=60,figsize=(10,10))"
   ]
  },
  {
   "cell_type": "markdown",
   "id": "107470f1",
   "metadata": {},
   "source": [
    "### 모델링"
   ]
  },
  {
   "cell_type": "code",
   "execution_count": null,
   "id": "359676b1",
   "metadata": {},
   "outputs": [],
   "source": [
    "# 네트워크 불러오기\n",
    "ntw = spaghetti.Network(in_data=streets)\n",
    "ntw.snapobservations(clients, \"clients\", attribute=True)\n",
    "clients_snapped = spaghetti.element_as_gdf(\n",
    "    ntw, pp_name=\"clients\", snapped=True\n",
    ")\n",
    "ntw.snapobservations(facilities, \"facilities\", attribute=True)\n",
    "facilities_snapped = spaghetti.element_as_gdf(\n",
    "    ntw, pp_name=\"facilities\", snapped=True\n",
    ")"
   ]
  },
  {
   "cell_type": "code",
   "execution_count": null,
   "id": "d6dceb48",
   "metadata": {},
   "outputs": [],
   "source": [
    "# Cost Matrix 계싼 시간 소요\n",
    "cost_matrix = ntw.allneighbordistances(\n",
    "    sourcepattern=ntw.pointpatterns[\"clients\"],\n",
    "    destpattern=ntw.pointpatterns[\"facilities\"],\n",
    ")\n",
    "cost_matrix[:3,:3]"
   ]
  },
  {
   "cell_type": "markdown",
   "id": "3422d801",
   "metadata": {},
   "source": [
    "#### mclp"
   ]
  },
  {
   "cell_type": "code",
   "execution_count": null,
   "id": "970da8db",
   "metadata": {},
   "outputs": [],
   "source": [
    "mclp = FacilityLocationModel(\n",
    "    \"mclp\", ai=clients[\"weights\"], cij=cost_matrix, p=1, s=1000\n",
    ")\n",
    "clients, facilities = add_results(mclp, clients, facilities)"
   ]
  },
  {
   "cell_type": "code",
   "execution_count": null,
   "id": "b57ff237",
   "metadata": {
    "scrolled": false
   },
   "outputs": [],
   "source": [
    "aux_to_plot = {\"streets\": streets, \"cli_tru\": clients, \"fac_tru\": facilities}\n",
    "res_to_plot = {\"cli_var\": clients, \"fac_var\": facilities}\n",
    "plotter(\n",
    "    plot_aux=aux_to_plot,\n",
    "    plot_res=res_to_plot,\n",
    "    pt1_size=300,\n",
    "    pt2_size=60,\n",
    "    model=mclp,\n",
    "    title=title,\n",
    ")"
   ]
  },
  {
   "cell_type": "code",
   "execution_count": null,
   "id": "3ec21a1a",
   "metadata": {},
   "outputs": [],
   "source": [
    "models = [mclp]\n",
    "analytics_df, analytics_display = analytics_matrix(models)\n",
    "selection_df, selection_display = selection_matrix(models)\n",
    "display(analytics_display)\n",
    "display(selection_display)\n",
    "display(facilities[facilities[\"mclp_sol\"] != \"closed\"][[\"dv\", \"geometry\"]])"
   ]
  },
  {
   "cell_type": "code",
   "execution_count": null,
   "id": "efde7898",
   "metadata": {},
   "outputs": [],
   "source": [
    "mclp = FacilityLocationModel(\n",
    "    \"mclp\", ai=clients[\"weights\"], cij=cost_matrix, p=1, s=2000\n",
    ")\n",
    "clients, facilities = add_results(mclp, clients, facilities)"
   ]
  },
  {
   "cell_type": "code",
   "execution_count": null,
   "id": "b08d8eb7",
   "metadata": {
    "scrolled": false
   },
   "outputs": [],
   "source": [
    "aux_to_plot = {\"streets\": streets, \"cli_tru\": clients, \"fac_tru\": facilities}\n",
    "res_to_plot = {\"cli_var\": clients, \"fac_var\": facilities}\n",
    "plotter(\n",
    "    plot_aux=aux_to_plot,\n",
    "    plot_res=res_to_plot,\n",
    "    pt1_size=300,\n",
    "    pt2_size=60,\n",
    "    model=mclp,\n",
    "    title=title,\n",
    ")"
   ]
  },
  {
   "cell_type": "code",
   "execution_count": null,
   "id": "4ff3df25",
   "metadata": {},
   "outputs": [],
   "source": [
    "models = [mclp]\n",
    "analytics_df, analytics_display = analytics_matrix(models)\n",
    "selection_df, selection_display = selection_matrix(models)\n",
    "display(analytics_display)\n",
    "display(selection_display)\n",
    "display(facilities[facilities[\"mclp_sol\"] != \"closed\"][[\"dv\", \"geometry\"]])"
   ]
  },
  {
   "cell_type": "code",
   "execution_count": null,
   "id": "a1b6d951",
   "metadata": {},
   "outputs": [],
   "source": [
    "mclp = FacilityLocationModel(\n",
    "    \"mclp\", ai=clients[\"weights\"], cij=cost_matrix, p=1, s=3000\n",
    ")\n",
    "clients, facilities = add_results(mclp, clients, facilities)"
   ]
  },
  {
   "cell_type": "code",
   "execution_count": null,
   "id": "dc843b4e",
   "metadata": {
    "scrolled": true
   },
   "outputs": [],
   "source": [
    "aux_to_plot = {\"streets\": streets, \"cli_tru\": clients, \"fac_tru\": facilities}\n",
    "res_to_plot = {\"cli_var\": clients, \"fac_var\": facilities}\n",
    "plotter(\n",
    "    plot_aux=aux_to_plot,\n",
    "    plot_res=res_to_plot,\n",
    "    pt1_size=300,\n",
    "    pt2_size=60,\n",
    "    model=mclp,\n",
    "    title=title,\n",
    ")"
   ]
  },
  {
   "cell_type": "code",
   "execution_count": null,
   "id": "e9d19a8c",
   "metadata": {},
   "outputs": [],
   "source": [
    "models = [mclp]\n",
    "analytics_df, analytics_display = analytics_matrix(models)\n",
    "selection_df, selection_display = selection_matrix(models)\n",
    "display(analytics_display)\n",
    "display(selection_display)\n",
    "display(facilities[facilities[\"mclp_sol\"] != \"closed\"][[\"dv\", \"geometry\"]])"
   ]
  },
  {
   "cell_type": "markdown",
   "id": "981fb735",
   "metadata": {},
   "source": [
    "## 강동구\n",
    "### 구 추출"
   ]
  },
  {
   "cell_type": "code",
   "execution_count": null,
   "id": "b2667f5e",
   "metadata": {},
   "outputs": [],
   "source": [
    "gangdong_streets = road[road['SIG_CD'].str.startswith('11740')]"
   ]
  },
  {
   "cell_type": "code",
   "execution_count": null,
   "id": "ee9fe1e8",
   "metadata": {},
   "outputs": [],
   "source": [
    "gangdong_clients = fdshop[fdshop['sigungu']=='강동구']\n",
    "gangdong_clients.shape"
   ]
  },
  {
   "cell_type": "code",
   "execution_count": null,
   "id": "c3c8e7e3",
   "metadata": {},
   "outputs": [],
   "source": [
    "gangdong_facility = gong[gong['hangjunggu']=='강동구']"
   ]
  },
  {
   "cell_type": "code",
   "execution_count": null,
   "id": "fbb2439a",
   "metadata": {
    "scrolled": false
   },
   "outputs": [],
   "source": [
    "fig,ax = plt.subplots(1,3,figsize=(45,15))\n",
    "gangdong_clients.plot(color='blue',ax=ax[0])\n",
    "gangdong_streets.plot(color='grey',ax=ax[1])\n",
    "gangdong_facility.plot(color='red',ax=ax[2])"
   ]
  },
  {
   "cell_type": "markdown",
   "id": "916b1414",
   "metadata": {},
   "source": [
    "### 세팅"
   ]
  },
  {
   "cell_type": "code",
   "execution_count": null,
   "id": "9f8c9b23",
   "metadata": {},
   "outputs": [],
   "source": [
    "# 고객수, 필요 설치개수 = x,y\n",
    "client_count, facility_count = gangdong_clients.shape[0],gangdong_facility.shape[0]\n",
    "# plot 제목\n",
    "title = \"Gangdong Neighborhood X\""
   ]
  },
  {
   "cell_type": "code",
   "execution_count": null,
   "id": "19ff500f",
   "metadata": {},
   "outputs": [],
   "source": [
    "buff = 20\n",
    "streets_buffer = get_buffer(gangdong_streets, buff=buff)"
   ]
  },
  {
   "cell_type": "code",
   "execution_count": null,
   "id": "e6641430",
   "metadata": {
    "scrolled": true
   },
   "outputs": [],
   "source": [
    "streets = gangdong_streets\n",
    "\n",
    "clients = gangdong_clients\n",
    "clients[\"dv\"] = [\"x[%s]\" % c for c in range(client_count)]\n",
    "\n",
    "facilities = gangdong_facility\n",
    "facilities[\"dv\"] = [\"y[%s]\" % c for c in range(facility_count)]\n",
    "\n",
    "display(clients.head(2))\n",
    "display(facilities.head(3))"
   ]
  },
  {
   "cell_type": "markdown",
   "id": "c338fbf4",
   "metadata": {},
   "source": [
    "### 모델링"
   ]
  },
  {
   "cell_type": "code",
   "execution_count": null,
   "id": "64b94652",
   "metadata": {},
   "outputs": [],
   "source": [
    "ntw = spaghetti.Network(in_data=streets)\n",
    "ntw.snapobservations(clients, \"clients\", attribute=True)\n",
    "clients_snapped = spaghetti.element_as_gdf(\n",
    "    ntw, pp_name=\"clients\", snapped=True\n",
    ")\n",
    "ntw.snapobservations(facilities, \"facilities\", attribute=True)\n",
    "facilities_snapped = spaghetti.element_as_gdf(\n",
    "    ntw, pp_name=\"facilities\", snapped=True\n",
    ")"
   ]
  },
  {
   "cell_type": "code",
   "execution_count": null,
   "id": "5bba32e7",
   "metadata": {},
   "outputs": [],
   "source": [
    "cost_matrix = ntw.allneighbordistances(\n",
    "    sourcepattern=ntw.pointpatterns[\"clients\"],\n",
    "    destpattern=ntw.pointpatterns[\"facilities\"],\n",
    ")\n",
    "cost_matrix[:3,:3]"
   ]
  },
  {
   "cell_type": "markdown",
   "id": "b114b291",
   "metadata": {},
   "source": [
    "#### MCLP"
   ]
  },
  {
   "cell_type": "code",
   "execution_count": null,
   "id": "07b87281",
   "metadata": {
    "scrolled": true
   },
   "outputs": [],
   "source": [
    "mclp = FacilityLocationModel(\n",
    "    \"mclp\", ai=clients[\"weights\"], cij=cost_matrix, p=1, s=1000\n",
    ")\n",
    "clients, facilities = add_results(mclp, clients, facilities)"
   ]
  },
  {
   "cell_type": "code",
   "execution_count": null,
   "id": "8ff25f28",
   "metadata": {
    "scrolled": true
   },
   "outputs": [],
   "source": [
    "aux_to_plot = {\"streets\": streets, \"cli_tru\": clients, \"fac_tru\": facilities}\n",
    "res_to_plot = {\"cli_var\": clients, \"fac_var\": facilities}\n",
    "plotter(\n",
    "    plot_aux=aux_to_plot,\n",
    "    plot_res=res_to_plot,\n",
    "    pt1_size=300,\n",
    "    pt2_size=60,\n",
    "    model=mclp,\n",
    "    title=title,\n",
    ")"
   ]
  },
  {
   "cell_type": "code",
   "execution_count": null,
   "id": "7bced9fa",
   "metadata": {},
   "outputs": [],
   "source": [
    "models = [mclp]\n",
    "analytics_df, analytics_display = analytics_matrix(models)\n",
    "selection_df, selection_display = selection_matrix(models)\n",
    "display(analytics_display)\n",
    "display(selection_display)\n",
    "display(facilities[facilities[\"mclp_sol\"] != \"closed\"][[\"dv\", \"geometry\"]])"
   ]
  },
  {
   "cell_type": "code",
   "execution_count": null,
   "id": "19abf9fd",
   "metadata": {
    "scrolled": true
   },
   "outputs": [],
   "source": [
    "mclp = FacilityLocationModel(\n",
    "    \"mclp\", ai=clients[\"weights\"], cij=cost_matrix, p=1, s=2000\n",
    ")\n",
    "clients, facilities = add_results(mclp, clients, facilities)"
   ]
  },
  {
   "cell_type": "code",
   "execution_count": null,
   "id": "5c9544c9",
   "metadata": {
    "scrolled": true
   },
   "outputs": [],
   "source": [
    "aux_to_plot = {\"streets\": streets, \"cli_tru\": clients, \"fac_tru\": facilities}\n",
    "res_to_plot = {\"cli_var\": clients, \"fac_var\": facilities}\n",
    "plotter(\n",
    "    plot_aux=aux_to_plot,\n",
    "    plot_res=res_to_plot,\n",
    "    pt1_size=300,\n",
    "    pt2_size=60,\n",
    "    model=mclp,\n",
    "    title=title,\n",
    ")"
   ]
  },
  {
   "cell_type": "code",
   "execution_count": null,
   "id": "38e2ae66",
   "metadata": {},
   "outputs": [],
   "source": [
    "models = [mclp]\n",
    "analytics_df, analytics_display = analytics_matrix(models)\n",
    "selection_df, selection_display = selection_matrix(models)\n",
    "display(analytics_display)\n",
    "display(selection_display)\n",
    "display(facilities[facilities[\"mclp_sol\"] != \"closed\"][[\"dv\", \"geometry\"]])"
   ]
  },
  {
   "cell_type": "code",
   "execution_count": null,
   "id": "7194b77f",
   "metadata": {},
   "outputs": [],
   "source": [
    "mclp = FacilityLocationModel(\n",
    "    \"mclp\", ai=clients[\"weights\"], cij=cost_matrix, p=1, s=3000\n",
    ")\n",
    "clients, facilities = add_results(mclp, clients, facilities)"
   ]
  },
  {
   "cell_type": "code",
   "execution_count": null,
   "id": "028687f1",
   "metadata": {},
   "outputs": [],
   "source": [
    "aux_to_plot = {\"streets\": streets, \"cli_tru\": clients, \"fac_tru\": facilities}\n",
    "res_to_plot = {\"cli_var\": clients, \"fac_var\": facilities}\n",
    "plotter(\n",
    "    plot_aux=aux_to_plot,\n",
    "    plot_res=res_to_plot,\n",
    "    pt1_size=300,\n",
    "    pt2_size=60,\n",
    "    model=mclp,\n",
    "    title=title,\n",
    ")"
   ]
  },
  {
   "cell_type": "code",
   "execution_count": null,
   "id": "b0c6103e",
   "metadata": {},
   "outputs": [],
   "source": [
    "models = [mclp]\n",
    "analytics_df, analytics_display = analytics_matrix(models)\n",
    "selection_df, selection_display = selection_matrix(models)\n",
    "display(analytics_display)\n",
    "display(selection_display)\n",
    "display(facilities[facilities[\"mclp_sol\"] != \"closed\"][[\"dv\", \"geometry\"]])"
   ]
  },
  {
   "cell_type": "markdown",
   "id": "e87c27d6",
   "metadata": {},
   "source": [
    "## 동작구\n",
    "### 구추출"
   ]
  },
  {
   "cell_type": "code",
   "execution_count": null,
   "id": "f2ed585f",
   "metadata": {},
   "outputs": [],
   "source": [
    "dongjak_streets = road[road['SIG_CD'].str.startswith('11590')]"
   ]
  },
  {
   "cell_type": "code",
   "execution_count": null,
   "id": "afe1b577",
   "metadata": {},
   "outputs": [],
   "source": [
    "dongjak_clients = fdshop[fdshop['sigungu']=='동작구']"
   ]
  },
  {
   "cell_type": "code",
   "execution_count": null,
   "id": "fea099ff",
   "metadata": {},
   "outputs": [],
   "source": [
    "dongjak_facility = gong[gong['hangjunggu']=='동작구']"
   ]
  },
  {
   "cell_type": "code",
   "execution_count": null,
   "id": "5ebddd4b",
   "metadata": {
    "scrolled": true
   },
   "outputs": [],
   "source": [
    "fig,ax = plt.subplots(1,3,figsize=(45,15))\n",
    "dongjak_clients.plot(color='blue',ax=ax[0])\n",
    "dongjak_streets.plot(color='grey',ax=ax[1])\n",
    "dongjak_facility.plot(color='red',ax=ax[2])"
   ]
  },
  {
   "cell_type": "markdown",
   "id": "b9fd0a3b",
   "metadata": {},
   "source": [
    "### 세팅"
   ]
  },
  {
   "cell_type": "code",
   "execution_count": null,
   "id": "7a69822e",
   "metadata": {},
   "outputs": [],
   "source": [
    "# 고객수, 필요 설치개수 = x,y\n",
    "client_count, facility_count = dongjak_clients.shape[0],dongjak_facility.shape[0]\n",
    "\n",
    "#plot 제목\n",
    "title = \"Dongjak Neighborhood X\""
   ]
  },
  {
   "cell_type": "code",
   "execution_count": null,
   "id": "69da4ecd",
   "metadata": {},
   "outputs": [],
   "source": [
    "buff = 20\n",
    "streets_buffer = get_buffer(dongjak_streets, buff=buff)"
   ]
  },
  {
   "cell_type": "code",
   "execution_count": null,
   "id": "c6e3e721",
   "metadata": {
    "scrolled": true
   },
   "outputs": [],
   "source": [
    "streets = dongjak_streets\n",
    "\n",
    "clients = dongjak_clients\n",
    "clients[\"dv\"] = [\"x[%s]\" % c for c in range(client_count)]\n",
    "\n",
    "facilities = dongjak_facility\n",
    "facilities[\"dv\"] = [\"y[%s]\" % c for c in range(facility_count)]\n",
    "\n",
    "display(clients.head(2))\n",
    "display(facilities.head(3))"
   ]
  },
  {
   "cell_type": "code",
   "execution_count": null,
   "id": "c0b384d4",
   "metadata": {},
   "outputs": [],
   "source": [
    "add_to_plot = {\n",
    "    \"streets\": streets,\n",
    "    \"buffer\": streets_buffer,\n",
    "    \"cli_tru\": clients,\n",
    "    \"fac_tru\": facilities,\n",
    "}\n",
    "\n",
    "plotter(plot_aux=add_to_plot, buffered=buff, pt1_size=60,figsize=(10,10))"
   ]
  },
  {
   "cell_type": "markdown",
   "id": "378641ba",
   "metadata": {},
   "source": [
    "### 모델링"
   ]
  },
  {
   "cell_type": "code",
   "execution_count": null,
   "id": "500f7bb4",
   "metadata": {},
   "outputs": [],
   "source": [
    "ntw = spaghetti.Network(in_data=streets)\n",
    "ntw.snapobservations(clients, \"clients\", attribute=True)\n",
    "clients_snapped = spaghetti.element_as_gdf(\n",
    "    ntw, pp_name=\"clients\", snapped=True\n",
    ")\n",
    "ntw.snapobservations(facilities, \"facilities\", attribute=True)\n",
    "facilities_snapped = spaghetti.element_as_gdf(\n",
    "    ntw, pp_name=\"facilities\", snapped=True\n",
    ")"
   ]
  },
  {
   "cell_type": "code",
   "execution_count": null,
   "id": "036b73da",
   "metadata": {},
   "outputs": [],
   "source": [
    "cost_matrix = ntw.allneighbordistances(\n",
    "    sourcepattern=ntw.pointpatterns[\"clients\"],\n",
    "    destpattern=ntw.pointpatterns[\"facilities\"],\n",
    ")\n",
    "cost_matrix[:3,:3]"
   ]
  },
  {
   "cell_type": "markdown",
   "id": "ceda597a",
   "metadata": {},
   "source": [
    "#### MCLP"
   ]
  },
  {
   "cell_type": "code",
   "execution_count": null,
   "id": "8148070c",
   "metadata": {
    "scrolled": true
   },
   "outputs": [],
   "source": [
    "mclp = FacilityLocationModel(\n",
    "    \"mclp\", ai=clients[\"weights\"], cij=cost_matrix, p=1, s=1000\n",
    ")\n",
    "clients, facilities = add_results(mclp, clients, facilities)"
   ]
  },
  {
   "cell_type": "code",
   "execution_count": null,
   "id": "4335e4c9",
   "metadata": {},
   "outputs": [],
   "source": [
    "aux_to_plot = {\"streets\": streets, \"cli_tru\": clients, \"fac_tru\": facilities}\n",
    "res_to_plot = {\"cli_var\": clients, \"fac_var\": facilities}\n",
    "plotter(\n",
    "    plot_aux=aux_to_plot,\n",
    "    plot_res=res_to_plot,\n",
    "    pt1_size=300,\n",
    "    pt2_size=60,\n",
    "    model=mclp,\n",
    "    title=title,\n",
    ")"
   ]
  },
  {
   "cell_type": "code",
   "execution_count": null,
   "id": "bdffccce",
   "metadata": {},
   "outputs": [],
   "source": [
    "models = [mclp]\n",
    "analytics_df, analytics_display = analytics_matrix(models)\n",
    "selection_df, selection_display = selection_matrix(models)\n",
    "display(analytics_display)\n",
    "display(selection_display)\n",
    "display(facilities[facilities[\"mclp_sol\"] != \"closed\"][[\"dv\", \"geometry\"]])"
   ]
  },
  {
   "cell_type": "code",
   "execution_count": null,
   "id": "c6e3c63c",
   "metadata": {},
   "outputs": [],
   "source": [
    "mclp = FacilityLocationModel(\n",
    "    \"mclp\", ai=clients[\"weights\"], cij=cost_matrix, p=1, s=2000\n",
    ")\n",
    "clients, facilities = add_results(mclp, clients, facilities)"
   ]
  },
  {
   "cell_type": "code",
   "execution_count": null,
   "id": "c0ab9bc2",
   "metadata": {},
   "outputs": [],
   "source": [
    "aux_to_plot = {\"streets\": streets, \"cli_tru\": clients, \"fac_tru\": facilities}\n",
    "res_to_plot = {\"cli_var\": clients, \"fac_var\": facilities}\n",
    "plotter(\n",
    "    plot_aux=aux_to_plot,\n",
    "    plot_res=res_to_plot,\n",
    "    pt1_size=300,\n",
    "    pt2_size=60,\n",
    "    model=mclp,\n",
    "    title=title,\n",
    ")"
   ]
  },
  {
   "cell_type": "code",
   "execution_count": null,
   "id": "206a7cf1",
   "metadata": {},
   "outputs": [],
   "source": [
    "models = [mclp]\n",
    "analytics_df, analytics_display = analytics_matrix(models)\n",
    "selection_df, selection_display = selection_matrix(models)\n",
    "display(analytics_display)\n",
    "display(selection_display)\n",
    "display(facilities[facilities[\"mclp_sol\"] != \"closed\"][[\"dv\", \"geometry\"]])"
   ]
  },
  {
   "cell_type": "code",
   "execution_count": null,
   "id": "9b48a22f",
   "metadata": {},
   "outputs": [],
   "source": [
    "mclp = FacilityLocationModel(\n",
    "    \"mclp\", ai=clients[\"weights\"], cij=cost_matrix, p=1, s=3000\n",
    ")\n",
    "clients, facilities = add_results(mclp, clients, facilities)"
   ]
  },
  {
   "cell_type": "code",
   "execution_count": null,
   "id": "b2d245db",
   "metadata": {},
   "outputs": [],
   "source": [
    "aux_to_plot = {\"streets\": streets, \"cli_tru\": clients, \"fac_tru\": facilities}\n",
    "res_to_plot = {\"cli_var\": clients, \"fac_var\": facilities}\n",
    "plotter(\n",
    "    plot_aux=aux_to_plot,\n",
    "    plot_res=res_to_plot,\n",
    "    pt1_size=300,\n",
    "    pt2_size=60,\n",
    "    model=mclp,\n",
    "    title=title,\n",
    ")"
   ]
  },
  {
   "cell_type": "code",
   "execution_count": null,
   "id": "b053feaf",
   "metadata": {},
   "outputs": [],
   "source": [
    "models = [mclp]\n",
    "analytics_df, analytics_display = analytics_matrix(models)\n",
    "selection_df, selection_display = selection_matrix(models)\n",
    "display(analytics_display)\n",
    "display(selection_display)\n",
    "display(facilities[facilities[\"mclp_sol\"] != \"closed\"][[\"dv\", \"geometry\"]])"
   ]
  },
  {
   "cell_type": "markdown",
   "id": "cdd7cafe",
   "metadata": {},
   "source": [
    "## 송파구\n",
    "### 구 추출"
   ]
  },
  {
   "cell_type": "code",
   "execution_count": null,
   "id": "852c9276",
   "metadata": {},
   "outputs": [],
   "source": [
    "songpa_streets = road[road['SIG_CD'].str.startswith('11710')]"
   ]
  },
  {
   "cell_type": "code",
   "execution_count": null,
   "id": "c7773f54",
   "metadata": {},
   "outputs": [],
   "source": [
    "songpa_clients = fdshop[fdshop['sigungu']=='송파구']\n",
    "songpa_clients.shape"
   ]
  },
  {
   "cell_type": "code",
   "execution_count": null,
   "id": "e3f44519",
   "metadata": {},
   "outputs": [],
   "source": [
    "songpa_facility = gong[gong['hangjunggu']=='송파구']"
   ]
  },
  {
   "cell_type": "code",
   "execution_count": null,
   "id": "ef9ea36a",
   "metadata": {
    "scrolled": true
   },
   "outputs": [],
   "source": [
    "fig,ax = plt.subplots(1,3,figsize=(45,15))\n",
    "songpa_clients.plot(color='blue',ax=ax[0])\n",
    "songpa_streets.plot(color='grey',ax=ax[1])\n",
    "songpa_facility.plot(color='red',ax=ax[2])"
   ]
  },
  {
   "cell_type": "markdown",
   "id": "ed5554c4",
   "metadata": {},
   "source": [
    "### 세팅"
   ]
  },
  {
   "cell_type": "code",
   "execution_count": null,
   "id": "ffa82cb2",
   "metadata": {},
   "outputs": [],
   "source": [
    "# 고객수, 필요 설치개수 = x,y\n",
    "client_count, facility_count = songpa_clients.shape[0],songpa_facility.shape[0]\n",
    "\n",
    "#plot 제목\n",
    "title = \"Songpa Neighborhood X\""
   ]
  },
  {
   "cell_type": "code",
   "execution_count": null,
   "id": "d93a19ad",
   "metadata": {},
   "outputs": [],
   "source": [
    "buff = 20\n",
    "streets_buffer = get_buffer(songpa_streets, buff=buff)"
   ]
  },
  {
   "cell_type": "code",
   "execution_count": null,
   "id": "6511d3d4",
   "metadata": {},
   "outputs": [],
   "source": [
    "streets = songpa_streets\n",
    "\n",
    "clients = songpa_clients\n",
    "clients[\"dv\"] = [\"x[%s]\" % c for c in range(client_count)]\n",
    "\n",
    "facilities = songpa_facility\n",
    "facilities[\"dv\"] = [\"y[%s]\" % c for c in range(facility_count)]\n",
    "\n",
    "display(clients.head(2))\n",
    "display(facilities.head(3))"
   ]
  },
  {
   "cell_type": "markdown",
   "id": "f31d938a",
   "metadata": {},
   "source": [
    "### 모델링"
   ]
  },
  {
   "cell_type": "code",
   "execution_count": null,
   "id": "5f44c4e9",
   "metadata": {},
   "outputs": [],
   "source": [
    "ntw = spaghetti.Network(in_data=streets)\n",
    "ntw.snapobservations(clients, \"clients\", attribute=True)\n",
    "clients_snapped = spaghetti.element_as_gdf(\n",
    "    ntw, pp_name=\"clients\", snapped=True\n",
    ")\n",
    "ntw.snapobservations(facilities, \"facilities\", attribute=True)\n",
    "facilities_snapped = spaghetti.element_as_gdf(\n",
    "    ntw, pp_name=\"facilities\", snapped=True\n",
    ")"
   ]
  },
  {
   "cell_type": "code",
   "execution_count": null,
   "id": "50c2e806",
   "metadata": {},
   "outputs": [],
   "source": [
    "cost_matrix = ntw.allneighbordistances(\n",
    "    sourcepattern=ntw.pointpatterns[\"clients\"],\n",
    "    destpattern=ntw.pointpatterns[\"facilities\"],\n",
    ")\n",
    "cost_matrix[:3,:3]"
   ]
  },
  {
   "cell_type": "markdown",
   "id": "fb30adc0",
   "metadata": {},
   "source": [
    "#### MCLP"
   ]
  },
  {
   "cell_type": "code",
   "execution_count": null,
   "id": "0667911a",
   "metadata": {},
   "outputs": [],
   "source": [
    "mclp = FacilityLocationModel(\n",
    "    \"mclp\", ai=clients[\"weights\"], cij=cost_matrix, p=1, s=1000\n",
    ")\n",
    "clients, facilities = add_results(mclp, clients, facilities)"
   ]
  },
  {
   "cell_type": "code",
   "execution_count": null,
   "id": "8b986f5d",
   "metadata": {
    "scrolled": false
   },
   "outputs": [],
   "source": [
    "aux_to_plot = {\"streets\": streets, \"cli_tru\": clients, \"fac_tru\": facilities}\n",
    "res_to_plot = {\"cli_var\": clients, \"fac_var\": facilities}\n",
    "plotter(\n",
    "    plot_aux=aux_to_plot,\n",
    "    plot_res=res_to_plot,\n",
    "    pt1_size=300,\n",
    "    pt2_size=60,\n",
    "    model=mclp,\n",
    "    title=title,\n",
    ")"
   ]
  },
  {
   "cell_type": "code",
   "execution_count": null,
   "id": "7d8adc5e",
   "metadata": {},
   "outputs": [],
   "source": [
    "models = [mclp]\n",
    "analytics_df, analytics_display = analytics_matrix(models)\n",
    "selection_df, selection_display = selection_matrix(models)\n",
    "display(analytics_display)\n",
    "display(selection_display)\n",
    "display(facilities[facilities[\"mclp_sol\"] != \"closed\"][[\"dv\", \"geometry\"]])"
   ]
  },
  {
   "cell_type": "code",
   "execution_count": null,
   "id": "b8f6eae3",
   "metadata": {},
   "outputs": [],
   "source": [
    "mclp = FacilityLocationModel(\n",
    "    \"mclp\", ai=clients[\"weights\"], cij=cost_matrix, p=1, s=1500\n",
    ")\n",
    "clients, facilities = add_results(mclp, clients, facilities)\n",
    "aux_to_plot = {\"streets\": streets, \"cli_tru\": clients, \"fac_tru\": facilities}\n",
    "res_to_plot = {\"cli_var\": clients, \"fac_var\": facilities}\n",
    "plotter(\n",
    "    plot_aux=aux_to_plot,\n",
    "    plot_res=res_to_plot,\n",
    "    pt1_size=300,\n",
    "    pt2_size=60,\n",
    "    model=mclp,\n",
    "    title=title,\n",
    ")"
   ]
  },
  {
   "cell_type": "code",
   "execution_count": null,
   "id": "b423a0b4",
   "metadata": {},
   "outputs": [],
   "source": [
    "models = [mclp]\n",
    "analytics_df, analytics_display = analytics_matrix(models)\n",
    "selection_df, selection_display = selection_matrix(models)\n",
    "display(analytics_display)\n",
    "display(selection_display)\n",
    "display(facilities[facilities[\"mclp_sol\"] != \"closed\"][[\"dv\", \"geometry\"]])"
   ]
  },
  {
   "cell_type": "code",
   "execution_count": null,
   "id": "796c7247",
   "metadata": {},
   "outputs": [],
   "source": [
    "mclp = FacilityLocationModel(\n",
    "    \"mclp\", ai=clients[\"weights\"], cij=cost_matrix, p=1, s=2000\n",
    ")\n",
    "clients, facilities = add_results(mclp, clients, facilities)"
   ]
  },
  {
   "cell_type": "code",
   "execution_count": null,
   "id": "7a2e1174",
   "metadata": {},
   "outputs": [],
   "source": [
    "aux_to_plot = {\"streets\": streets, \"cli_tru\": clients, \"fac_tru\": facilities}\n",
    "res_to_plot = {\"cli_var\": clients, \"fac_var\": facilities}\n",
    "plotter(\n",
    "    plot_aux=aux_to_plot,\n",
    "    plot_res=res_to_plot,\n",
    "    pt1_size=300,\n",
    "    pt2_size=60,\n",
    "    model=mclp,\n",
    "    title=title,\n",
    ")"
   ]
  },
  {
   "cell_type": "code",
   "execution_count": null,
   "id": "6f869e67",
   "metadata": {},
   "outputs": [],
   "source": [
    "models = [mclp]\n",
    "analytics_df, analytics_display = analytics_matrix(models)\n",
    "selection_df, selection_display = selection_matrix(models)\n",
    "display(analytics_display)\n",
    "display(selection_display)\n",
    "display(facilities[facilities[\"mclp_sol\"] != \"closed\"][[\"dv\", \"geometry\"]])"
   ]
  },
  {
   "cell_type": "code",
   "execution_count": null,
   "id": "09d1c08d",
   "metadata": {},
   "outputs": [],
   "source": [
    "mclp = FacilityLocationModel(\n",
    "    \"mclp\", ai=clients[\"weights\"], cij=cost_matrix, p=1, s=3000\n",
    ")\n",
    "clients, facilities = add_results(mclp, clients, facilities)"
   ]
  },
  {
   "cell_type": "code",
   "execution_count": null,
   "id": "249e72c5",
   "metadata": {},
   "outputs": [],
   "source": [
    "aux_to_plot = {\"streets\": streets, \"cli_tru\": clients, \"fac_tru\": facilities}\n",
    "res_to_plot = {\"cli_var\": clients, \"fac_var\": facilities}\n",
    "plotter(\n",
    "    plot_aux=aux_to_plot,\n",
    "    plot_res=res_to_plot,\n",
    "    pt1_size=300,\n",
    "    pt2_size=60,\n",
    "    model=mclp,\n",
    "    title=title,\n",
    ")"
   ]
  },
  {
   "cell_type": "code",
   "execution_count": null,
   "id": "8aed419d",
   "metadata": {},
   "outputs": [],
   "source": [
    "models = [mclp]\n",
    "analytics_df, analytics_display = analytics_matrix(models)\n",
    "selection_df, selection_display = selection_matrix(models)\n",
    "display(analytics_display)\n",
    "display(selection_display)\n",
    "display(facilities[facilities[\"mclp_sol\"] != \"closed\"][[\"dv\", \"geometry\"]])"
   ]
  },
  {
   "cell_type": "markdown",
   "id": "4fd27946",
   "metadata": {},
   "source": [
    "## 관악구\n",
    "### 구추출"
   ]
  },
  {
   "cell_type": "code",
   "execution_count": null,
   "id": "b998e670",
   "metadata": {},
   "outputs": [],
   "source": [
    "gwan_streets = road[road['SIG_CD'].str.startswith('11620')]"
   ]
  },
  {
   "cell_type": "code",
   "execution_count": null,
   "id": "02466f24",
   "metadata": {},
   "outputs": [],
   "source": [
    "gwan_clients = fdshop[fdshop['sigungu']=='관악구']\n",
    "gwan_clients.shape"
   ]
  },
  {
   "cell_type": "code",
   "execution_count": null,
   "id": "0dd9f451",
   "metadata": {},
   "outputs": [],
   "source": [
    "gwan_facility = gong[gong['hangjunggu']=='관악구']"
   ]
  },
  {
   "cell_type": "code",
   "execution_count": null,
   "id": "22a184e9",
   "metadata": {},
   "outputs": [],
   "source": [
    "fig,ax = plt.subplots(1,3,figsize=(45,15))\n",
    "gwan_clients.plot(color='blue',ax=ax[0])\n",
    "gwan_streets.plot(color='grey',ax=ax[1])\n",
    "gwan_facility.plot(color='red',ax=ax[2])"
   ]
  },
  {
   "cell_type": "markdown",
   "id": "c5f2d0ba",
   "metadata": {},
   "source": [
    "### 세팅"
   ]
  },
  {
   "cell_type": "code",
   "execution_count": null,
   "id": "d3c93642",
   "metadata": {},
   "outputs": [],
   "source": [
    "# 고객수, 필요 설치개수 = x,y\n",
    "client_count, facility_count = gwan_clients.shape[0],gwan_facility.shape[0]\n",
    "\n",
    "# plot 제목\n",
    "title = \"Gwanak Neighborhood X\""
   ]
  },
  {
   "cell_type": "code",
   "execution_count": null,
   "id": "8d4d608b",
   "metadata": {},
   "outputs": [],
   "source": [
    "buff = 20\n",
    "streets_buffer = get_buffer(gwan_streets, buff=buff)"
   ]
  },
  {
   "cell_type": "code",
   "execution_count": null,
   "id": "a8420f54",
   "metadata": {},
   "outputs": [],
   "source": [
    "streets = gwan_streets\n",
    "\n",
    "clients = gwan_clients\n",
    "clients[\"dv\"] = [\"x[%s]\" % c for c in range(client_count)]\n",
    "\n",
    "facilities = gwan_facility\n",
    "facilities[\"dv\"] = [\"y[%s]\" % c for c in range(facility_count)]\n",
    "\n",
    "display(clients.head(2))\n",
    "display(facilities.head(3))"
   ]
  },
  {
   "cell_type": "markdown",
   "id": "1b122020",
   "metadata": {},
   "source": [
    "### 모델링 "
   ]
  },
  {
   "cell_type": "code",
   "execution_count": null,
   "id": "9c0679ab",
   "metadata": {},
   "outputs": [],
   "source": [
    "ntw = spaghetti.Network(in_data=streets)\n",
    "ntw.snapobservations(clients, \"clients\", attribute=True)\n",
    "clients_snapped = spaghetti.element_as_gdf(\n",
    "    ntw, pp_name=\"clients\", snapped=True\n",
    ")\n",
    "ntw.snapobservations(facilities, \"facilities\", attribute=True)\n",
    "facilities_snapped = spaghetti.element_as_gdf(\n",
    "    ntw, pp_name=\"facilities\", snapped=True\n",
    ")"
   ]
  },
  {
   "cell_type": "code",
   "execution_count": null,
   "id": "56b5bd54",
   "metadata": {},
   "outputs": [],
   "source": [
    "cost_matrix = ntw.allneighbordistances(\n",
    "    sourcepattern=ntw.pointpatterns[\"clients\"],\n",
    "    destpattern=ntw.pointpatterns[\"facilities\"],\n",
    ")\n",
    "cost_matrix[:3,:3]"
   ]
  },
  {
   "cell_type": "markdown",
   "id": "0fe911b4",
   "metadata": {},
   "source": [
    "#### MCLP"
   ]
  },
  {
   "cell_type": "code",
   "execution_count": null,
   "id": "f87ca027",
   "metadata": {},
   "outputs": [],
   "source": [
    "mclp = FacilityLocationModel(\n",
    "    \"mclp\", ai=clients[\"weights\"], cij=cost_matrix, p=1, s=1000\n",
    ")\n",
    "clients, facilities = add_results(mclp, clients, facilities)"
   ]
  },
  {
   "cell_type": "code",
   "execution_count": null,
   "id": "8b0ec4ce",
   "metadata": {
    "scrolled": false
   },
   "outputs": [],
   "source": [
    "aux_to_plot = {\"streets\": streets, \"cli_tru\": clients, \"fac_tru\": facilities}\n",
    "res_to_plot = {\"cli_var\": clients, \"fac_var\": facilities}\n",
    "plotter(\n",
    "    plot_aux=aux_to_plot,\n",
    "    plot_res=res_to_plot,\n",
    "    pt1_size=300,\n",
    "    pt2_size=60,\n",
    "    model=mclp,\n",
    "    title=title,\n",
    ")"
   ]
  },
  {
   "cell_type": "code",
   "execution_count": null,
   "id": "80bf9662",
   "metadata": {},
   "outputs": [],
   "source": [
    "models = [mclp]\n",
    "analytics_df, analytics_display = analytics_matrix(models)\n",
    "selection_df, selection_display = selection_matrix(models)\n",
    "display(analytics_display)\n",
    "display(selection_display)\n",
    "display(facilities[facilities[\"mclp_sol\"] != \"closed\"][[\"dv\", \"geometry\"]])"
   ]
  },
  {
   "cell_type": "code",
   "execution_count": null,
   "id": "5dc18532",
   "metadata": {},
   "outputs": [],
   "source": [
    "mclp = FacilityLocationModel(\n",
    "    \"mclp\", ai=clients[\"weights\"], cij=cost_matrix, p=1, s=2000\n",
    ")\n",
    "clients, facilities = add_results(mclp, clients, facilities)"
   ]
  },
  {
   "cell_type": "code",
   "execution_count": null,
   "id": "c71d38cc",
   "metadata": {},
   "outputs": [],
   "source": [
    "aux_to_plot = {\"streets\": streets, \"cli_tru\": clients, \"fac_tru\": facilities}\n",
    "res_to_plot = {\"cli_var\": clients, \"fac_var\": facilities}\n",
    "plotter(\n",
    "    plot_aux=aux_to_plot,\n",
    "    plot_res=res_to_plot,\n",
    "    pt1_size=300,\n",
    "    pt2_size=60,\n",
    "    model=mclp,\n",
    "    title=title,\n",
    ")"
   ]
  },
  {
   "cell_type": "code",
   "execution_count": null,
   "id": "bbf0e32c",
   "metadata": {},
   "outputs": [],
   "source": [
    "models = [mclp]\n",
    "analytics_df, analytics_display = analytics_matrix(models)\n",
    "selection_df, selection_display = selection_matrix(models)\n",
    "display(analytics_display)\n",
    "display(selection_display)\n",
    "display(facilities[facilities[\"mclp_sol\"] != \"closed\"][[\"dv\", \"geometry\"]])"
   ]
  },
  {
   "cell_type": "code",
   "execution_count": null,
   "id": "7da1578c",
   "metadata": {},
   "outputs": [],
   "source": [
    "mclp = FacilityLocationModel(\n",
    "    \"mclp\", ai=clients[\"weights\"], cij=cost_matrix, p=1, s=3000\n",
    ")\n",
    "clients, facilities = add_results(mclp, clients, facilities)"
   ]
  },
  {
   "cell_type": "code",
   "execution_count": null,
   "id": "1f9bfd32",
   "metadata": {},
   "outputs": [],
   "source": [
    "aux_to_plot = {\"streets\": streets, \"cli_tru\": clients, \"fac_tru\": facilities}\n",
    "res_to_plot = {\"cli_var\": clients, \"fac_var\": facilities}\n",
    "plotter(\n",
    "    plot_aux=aux_to_plot,\n",
    "    plot_res=res_to_plot,\n",
    "    pt1_size=300,\n",
    "    pt2_size=60,\n",
    "    model=mclp,\n",
    "    title=title,\n",
    ")"
   ]
  },
  {
   "cell_type": "code",
   "execution_count": null,
   "id": "fa2ce124",
   "metadata": {},
   "outputs": [],
   "source": [
    "models = [mclp]\n",
    "analytics_df, analytics_display = analytics_matrix(models)\n",
    "selection_df, selection_display = selection_matrix(models)\n",
    "display(analytics_display)\n",
    "display(selection_display)\n",
    "display(facilities[facilities[\"mclp_sol\"] != \"closed\"][[\"dv\", \"geometry\"]])"
   ]
  },
  {
   "cell_type": "markdown",
   "id": "475c0def",
   "metadata": {},
   "source": [
    "## 영등포구\n",
    "### 구 추출"
   ]
  },
  {
   "cell_type": "code",
   "execution_count": null,
   "id": "a146e5fc",
   "metadata": {},
   "outputs": [],
   "source": [
    "yung_streets = road[road['SIG_CD'].str.startswith('11560')]"
   ]
  },
  {
   "cell_type": "code",
   "execution_count": null,
   "id": "0aefbc1d",
   "metadata": {},
   "outputs": [],
   "source": [
    "yung_clients = fdshop[fdshop['sigungu']=='영등포구']\n",
    "yung_clients.shape"
   ]
  },
  {
   "cell_type": "code",
   "execution_count": null,
   "id": "903ef30c",
   "metadata": {},
   "outputs": [],
   "source": [
    "yung_facility = gong[gong['hangjunggu']=='영등포구']"
   ]
  },
  {
   "cell_type": "code",
   "execution_count": null,
   "id": "74488236",
   "metadata": {},
   "outputs": [],
   "source": [
    "fig,ax = plt.subplots(1,3,figsize=(45,15))\n",
    "yung_clients.plot(color='blue',ax=ax[0])\n",
    "yung_streets.plot(color='grey',ax=ax[1])\n",
    "yung_facility.plot(color='red',ax=ax[2])"
   ]
  },
  {
   "cell_type": "markdown",
   "id": "36541355",
   "metadata": {},
   "source": [
    "### 세팅"
   ]
  },
  {
   "cell_type": "code",
   "execution_count": null,
   "id": "2617d3f8",
   "metadata": {},
   "outputs": [],
   "source": [
    "# 고객수, 필요 설치개수 = x,y\n",
    "client_count, facility_count = yung_clients.shape[0],yung_facility.shape[0]\n",
    "\n",
    "# plot 제목\n",
    "title = \"Yeongdeungpo Neighborhood X\""
   ]
  },
  {
   "cell_type": "code",
   "execution_count": null,
   "id": "c34456c2",
   "metadata": {},
   "outputs": [],
   "source": [
    "buff = 20\n",
    "streets_buffer = get_buffer(yung_streets, buff=buff)"
   ]
  },
  {
   "cell_type": "code",
   "execution_count": null,
   "id": "9c2c2dbf",
   "metadata": {},
   "outputs": [],
   "source": [
    "streets = yung_streets\n",
    "\n",
    "clients = yung_clients\n",
    "clients[\"dv\"] = [\"x[%s]\" % c for c in range(client_count)]\n",
    "\n",
    "facilities = yung_facility\n",
    "facilities[\"dv\"] = [\"y[%s]\" % c for c in range(facility_count)]\n",
    "\n",
    "display(clients.head(2))\n",
    "display(facilities.head(3))"
   ]
  },
  {
   "cell_type": "markdown",
   "id": "27336168",
   "metadata": {},
   "source": [
    "### 모델링"
   ]
  },
  {
   "cell_type": "code",
   "execution_count": null,
   "id": "b073d81b",
   "metadata": {},
   "outputs": [],
   "source": [
    "ntw = spaghetti.Network(in_data=streets)\n",
    "ntw.snapobservations(clients, \"clients\", attribute=True)\n",
    "clients_snapped = spaghetti.element_as_gdf(\n",
    "    ntw, pp_name=\"clients\", snapped=True\n",
    ")\n",
    "ntw.snapobservations(facilities, \"facilities\", attribute=True)\n",
    "facilities_snapped = spaghetti.element_as_gdf(\n",
    "    ntw, pp_name=\"facilities\", snapped=True\n",
    ")"
   ]
  },
  {
   "cell_type": "code",
   "execution_count": null,
   "id": "19b53a1b",
   "metadata": {},
   "outputs": [],
   "source": [
    "cost_matrix = ntw.allneighbordistances(\n",
    "    sourcepattern=ntw.pointpatterns[\"clients\"],\n",
    "    destpattern=ntw.pointpatterns[\"facilities\"],\n",
    ")\n",
    "cost_matrix[:3,:3]"
   ]
  },
  {
   "cell_type": "markdown",
   "id": "1177d45f",
   "metadata": {},
   "source": [
    "#### MCLP"
   ]
  },
  {
   "cell_type": "code",
   "execution_count": null,
   "id": "1af88dd5",
   "metadata": {},
   "outputs": [],
   "source": [
    "mclp = FacilityLocationModel(\n",
    "    \"mclp\", ai=clients[\"weights\"], cij=cost_matrix, p=1, s=1000\n",
    ")\n",
    "clients, facilities = add_results(mclp, clients, facilities)"
   ]
  },
  {
   "cell_type": "code",
   "execution_count": null,
   "id": "bf6af50a",
   "metadata": {},
   "outputs": [],
   "source": [
    "aux_to_plot = {\"streets\": streets, \"cli_tru\": clients, \"fac_tru\": facilities}\n",
    "res_to_plot = {\"cli_var\": clients, \"fac_var\": facilities}\n",
    "plotter(\n",
    "    plot_aux=aux_to_plot,\n",
    "    plot_res=res_to_plot,\n",
    "    pt1_size=300,\n",
    "    pt2_size=60,\n",
    "    model=mclp,\n",
    "    title=title,\n",
    ")"
   ]
  },
  {
   "cell_type": "code",
   "execution_count": null,
   "id": "e94d3024",
   "metadata": {},
   "outputs": [],
   "source": [
    "models = [mclp]\n",
    "analytics_df, analytics_display = analytics_matrix(models)\n",
    "selection_df, selection_display = selection_matrix(models)\n",
    "display(analytics_display)\n",
    "display(selection_display)\n",
    "display(facilities[facilities[\"mclp_sol\"] != \"closed\"][[\"dv\", \"geometry\"]])"
   ]
  },
  {
   "cell_type": "code",
   "execution_count": null,
   "id": "0d3544c5",
   "metadata": {},
   "outputs": [],
   "source": [
    "mclp = FacilityLocationModel(\n",
    "    \"mclp\", ai=clients[\"weights\"], cij=cost_matrix, p=1, s=2000\n",
    ")\n",
    "clients, facilities = add_results(mclp, clients, facilities)"
   ]
  },
  {
   "cell_type": "code",
   "execution_count": null,
   "id": "708f3829",
   "metadata": {},
   "outputs": [],
   "source": [
    "aux_to_plot = {\"streets\": streets, \"cli_tru\": clients, \"fac_tru\": facilities}\n",
    "res_to_plot = {\"cli_var\": clients, \"fac_var\": facilities}\n",
    "plotter(\n",
    "    plot_aux=aux_to_plot,\n",
    "    plot_res=res_to_plot,\n",
    "    pt1_size=300,\n",
    "    pt2_size=60,\n",
    "    model=mclp,\n",
    "    title=title,\n",
    ")"
   ]
  },
  {
   "cell_type": "code",
   "execution_count": null,
   "id": "3a1a2a7e",
   "metadata": {},
   "outputs": [],
   "source": [
    "models = [mclp]\n",
    "analytics_df, analytics_display = analytics_matrix(models)\n",
    "selection_df, selection_display = selection_matrix(models)\n",
    "display(analytics_display)\n",
    "display(selection_display)\n",
    "display(facilities[facilities[\"mclp_sol\"] != \"closed\"][[\"dv\", \"geometry\"]])"
   ]
  },
  {
   "cell_type": "code",
   "execution_count": null,
   "id": "d63b1a1f",
   "metadata": {},
   "outputs": [],
   "source": [
    "mclp = FacilityLocationModel(\n",
    "    \"mclp\", ai=clients[\"weights\"], cij=cost_matrix, p=1, s=3000\n",
    ")\n",
    "clients, facilities = add_results(mclp, clients, facilities)"
   ]
  },
  {
   "cell_type": "code",
   "execution_count": null,
   "id": "998645e3",
   "metadata": {},
   "outputs": [],
   "source": [
    "aux_to_plot = {\"streets\": streets, \"cli_tru\": clients, \"fac_tru\": facilities}\n",
    "res_to_plot = {\"cli_var\": clients, \"fac_var\": facilities}\n",
    "plotter(\n",
    "    plot_aux=aux_to_plot,\n",
    "    plot_res=res_to_plot,\n",
    "    pt1_size=300,\n",
    "    pt2_size=60,\n",
    "    model=mclp,\n",
    "    title=title,\n",
    ")"
   ]
  },
  {
   "cell_type": "code",
   "execution_count": null,
   "id": "7497835e",
   "metadata": {},
   "outputs": [],
   "source": [
    "models = [mclp]\n",
    "analytics_df, analytics_display = analytics_matrix(models)\n",
    "selection_df, selection_display = selection_matrix(models)\n",
    "display(analytics_display)\n",
    "display(selection_display)\n",
    "display(facilities[facilities[\"mclp_sol\"] != \"closed\"][[\"dv\", \"geometry\"]])"
   ]
  },
  {
   "cell_type": "markdown",
   "id": "d39ded4a",
   "metadata": {},
   "source": [
    "## 강서구\n",
    "### 구 추출"
   ]
  },
  {
   "cell_type": "code",
   "execution_count": null,
   "id": "00f5685c",
   "metadata": {},
   "outputs": [],
   "source": [
    "gangsu_streets = road[road['SIG_CD'].str.startswith('11500')]"
   ]
  },
  {
   "cell_type": "code",
   "execution_count": null,
   "id": "dc3402da",
   "metadata": {},
   "outputs": [],
   "source": [
    "gangsu_clients = fdshop[fdshop['sigungu']=='강서구']\n",
    "gangsu_clients.shape"
   ]
  },
  {
   "cell_type": "code",
   "execution_count": null,
   "id": "129bae64",
   "metadata": {},
   "outputs": [],
   "source": [
    "gangsu_facility = gong[gong['hangjunggu']=='강서구']"
   ]
  },
  {
   "cell_type": "code",
   "execution_count": null,
   "id": "efaa5359",
   "metadata": {},
   "outputs": [],
   "source": [
    "fig,ax = plt.subplots(1,3,figsize=(45,15))\n",
    "gangsu_clients.plot(color='blue',ax=ax[0])\n",
    "gangsu_streets.plot(color='grey',ax=ax[1])\n",
    "gangsu_facility.plot(color='red',ax=ax[2])"
   ]
  },
  {
   "cell_type": "markdown",
   "id": "b51d7e9a",
   "metadata": {},
   "source": [
    "### 세팅"
   ]
  },
  {
   "cell_type": "code",
   "execution_count": null,
   "id": "e21f8fad",
   "metadata": {},
   "outputs": [],
   "source": [
    "# 고객수, 필요 설치개수 = x,y\n",
    "client_count, facility_count = gangsu_clients.shape[0],gangsu_facility.shape[0]\n",
    "\n",
    "# plot 제목\n",
    "title = \"Gangsu Neighborhood X\""
   ]
  },
  {
   "cell_type": "code",
   "execution_count": null,
   "id": "ec020825",
   "metadata": {},
   "outputs": [],
   "source": [
    "buff = 20\n",
    "streets_buffer = get_buffer(gangsu_streets, buff=buff)"
   ]
  },
  {
   "cell_type": "code",
   "execution_count": null,
   "id": "68cf9b6a",
   "metadata": {},
   "outputs": [],
   "source": [
    "streets = gangsu_streets\n",
    "\n",
    "clients = gangsu_clients\n",
    "clients[\"dv\"] = [\"x[%s]\" % c for c in range(client_count)]\n",
    "\n",
    "facilities = gangsu_facility\n",
    "facilities[\"dv\"] = [\"y[%s]\" % c for c in range(facility_count)]\n",
    "\n",
    "display(clients.head(2))\n",
    "display(facilities.head(3))"
   ]
  },
  {
   "cell_type": "markdown",
   "id": "1d3bfe84",
   "metadata": {},
   "source": [
    "### 모델링"
   ]
  },
  {
   "cell_type": "code",
   "execution_count": null,
   "id": "b5e3bcd1",
   "metadata": {},
   "outputs": [],
   "source": [
    "ntw = spaghetti.Network(in_data=streets)\n",
    "ntw.snapobservations(clients, \"clients\", attribute=True)\n",
    "clients_snapped = spaghetti.element_as_gdf(\n",
    "    ntw, pp_name=\"clients\", snapped=True\n",
    ")\n",
    "ntw.snapobservations(facilities, \"facilities\", attribute=True)\n",
    "facilities_snapped = spaghetti.element_as_gdf(\n",
    "    ntw, pp_name=\"facilities\", snapped=True\n",
    ")"
   ]
  },
  {
   "cell_type": "code",
   "execution_count": null,
   "id": "37f76918",
   "metadata": {},
   "outputs": [],
   "source": [
    "cost_matrix = ntw.allneighbordistances(\n",
    "    sourcepattern=ntw.pointpatterns[\"clients\"],\n",
    "    destpattern=ntw.pointpatterns[\"facilities\"],\n",
    ")\n",
    "cost_matrix[:3,:3]"
   ]
  },
  {
   "cell_type": "code",
   "execution_count": null,
   "id": "a17a2bfa",
   "metadata": {},
   "outputs": [],
   "source": [
    "add_to_plot = {\n",
    "    \"streets\": streets,\n",
    "    \"buffer\": streets_buffer,\n",
    "    \"cli_tru\": clients,\n",
    "    \"fac_tru\": facilities,\n",
    "    \"cli_snp\": clients_snapped,\n",
    "    \"fac_snp\": facilities_snapped,\n",
    "}\n",
    "plotter(plot_aux=add_to_plot, buffered=buff, pt1_size=60, pt2_size=10)"
   ]
  },
  {
   "cell_type": "markdown",
   "id": "aa86d28b",
   "metadata": {},
   "source": [
    "#### MCLP"
   ]
  },
  {
   "cell_type": "code",
   "execution_count": null,
   "id": "069861ea",
   "metadata": {},
   "outputs": [],
   "source": [
    "mclp = FacilityLocationModel(\n",
    "    \"mclp\", ai=clients[\"weights\"], cij=cost_matrix, p=1, s=1000\n",
    ")\n",
    "clients, facilities = add_results(mclp, clients, facilities)"
   ]
  },
  {
   "cell_type": "code",
   "execution_count": null,
   "id": "7b6fc8d1",
   "metadata": {
    "scrolled": false
   },
   "outputs": [],
   "source": [
    "aux_to_plot = {\"streets\": streets, \"cli_tru\": clients, \"fac_tru\": facilities}\n",
    "res_to_plot = {\"cli_var\": clients, \"fac_var\": facilities}\n",
    "plotter(\n",
    "    plot_aux=aux_to_plot,\n",
    "    plot_res=res_to_plot,\n",
    "    pt1_size=300,\n",
    "    pt2_size=60,\n",
    "    model=mclp,\n",
    "    title=title,\n",
    ")"
   ]
  },
  {
   "cell_type": "code",
   "execution_count": null,
   "id": "27e61d98",
   "metadata": {},
   "outputs": [],
   "source": [
    "models = [mclp]\n",
    "analytics_df, analytics_display = analytics_matrix(models)\n",
    "selection_df, selection_display = selection_matrix(models)\n",
    "display(analytics_display)\n",
    "display(selection_display)\n",
    "display(facilities[facilities[\"mclp_sol\"] != \"closed\"][[\"dv\", \"geometry\"]])"
   ]
  },
  {
   "cell_type": "code",
   "execution_count": null,
   "id": "c7c70f70",
   "metadata": {},
   "outputs": [],
   "source": [
    "mclp = FacilityLocationModel(\n",
    "    \"mclp\", ai=clients[\"weights\"], cij=cost_matrix, p=1, s=2000\n",
    ")\n",
    "clients, facilities = add_results(mclp, clients, facilities)"
   ]
  },
  {
   "cell_type": "code",
   "execution_count": null,
   "id": "d40ea1b4",
   "metadata": {},
   "outputs": [],
   "source": [
    "aux_to_plot = {\"streets\": streets, \"cli_tru\": clients, \"fac_tru\": facilities}\n",
    "res_to_plot = {\"cli_var\": clients, \"fac_var\": facilities}\n",
    "plotter(\n",
    "    plot_aux=aux_to_plot,\n",
    "    plot_res=res_to_plot,\n",
    "    pt1_size=300,\n",
    "    pt2_size=60,\n",
    "    model=mclp,\n",
    "    title=title,\n",
    ")"
   ]
  },
  {
   "cell_type": "code",
   "execution_count": null,
   "id": "341a4da7",
   "metadata": {},
   "outputs": [],
   "source": [
    "models = [mclp]\n",
    "analytics_df, analytics_display = analytics_matrix(models)\n",
    "selection_df, selection_display = selection_matrix(models)\n",
    "display(analytics_display)\n",
    "display(selection_display)\n",
    "display(facilities[facilities[\"mclp_sol\"] != \"closed\"][[\"dv\", \"geometry\"]])"
   ]
  },
  {
   "cell_type": "code",
   "execution_count": null,
   "id": "f59950ec",
   "metadata": {},
   "outputs": [],
   "source": [
    "mclp = FacilityLocationModel(\n",
    "    \"mclp\", ai=clients[\"weights\"], cij=cost_matrix, p=1, s=3000\n",
    ")\n",
    "clients, facilities = add_results(mclp, clients, facilities)"
   ]
  },
  {
   "cell_type": "code",
   "execution_count": null,
   "id": "2bf4d638",
   "metadata": {},
   "outputs": [],
   "source": [
    "aux_to_plot = {\"streets\": streets, \"cli_tru\": clients, \"fac_tru\": facilities}\n",
    "res_to_plot = {\"cli_var\": clients, \"fac_var\": facilities}\n",
    "plotter(\n",
    "    plot_aux=aux_to_plot,\n",
    "    plot_res=res_to_plot,\n",
    "    pt1_size=300,\n",
    "    pt2_size=60,\n",
    "    model=mclp,\n",
    "    title=title,\n",
    ")"
   ]
  },
  {
   "cell_type": "code",
   "execution_count": null,
   "id": "f948100b",
   "metadata": {},
   "outputs": [],
   "source": [
    "models = [mclp]\n",
    "analytics_df, analytics_display = analytics_matrix(models)\n",
    "selection_df, selection_display = selection_matrix(models)\n",
    "display(analytics_display)\n",
    "display(selection_display)\n",
    "display(facilities[facilities[\"mclp_sol\"] != \"closed\"][[\"dv\", \"geometry\"]])"
   ]
  }
 ],
 "metadata": {
  "kernelspec": {
   "display_name": "geo_env",
   "language": "python",
   "name": "geo_env"
  },
  "language_info": {
   "codemirror_mode": {
    "name": "ipython",
    "version": 3
   },
   "file_extension": ".py",
   "mimetype": "text/x-python",
   "name": "python",
   "nbconvert_exporter": "python",
   "pygments_lexer": "ipython3",
   "version": "3.8.11"
  },
  "toc": {
   "base_numbering": 1,
   "nav_menu": {},
   "number_sections": true,
   "sideBar": true,
   "skip_h1_title": false,
   "title_cell": "Table of Contents",
   "title_sidebar": "Contents",
   "toc_cell": false,
   "toc_position": {
    "height": "564px",
    "left": "428px",
    "top": "123.2px",
    "width": "265.95px"
   },
   "toc_section_display": true,
   "toc_window_display": true
  }
 },
 "nbformat": 4,
 "nbformat_minor": 5
}
