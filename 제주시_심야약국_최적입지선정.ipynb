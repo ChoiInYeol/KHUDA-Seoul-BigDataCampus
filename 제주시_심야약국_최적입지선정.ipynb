{
 "cells": [
  {
   "cell_type": "code",
   "execution_count": 1,
   "metadata": {},
   "outputs": [
    {
     "name": "stdout",
     "output_type": "stream",
     "text": [
      "Requirement already satisfied: haversine in c:\\users\\chldl\\desktop\\공부\\공모전\\통계데이터활용경진대회\\codespace\\statics\\lib\\site-packages (2.6.0)\n"
     ]
    }
   ],
   "source": [
    "!pip install -q folium==0.8.3\n",
    "!pip install -q geopandas\n",
    "!pip install haversine\n",
    "!pip install -q mapclassify==2.3.0"
   ]
  },
  {
   "cell_type": "code",
   "execution_count": 1,
   "metadata": {},
   "outputs": [
    {
     "name": "stdout",
     "output_type": "stream",
     "text": [
      "Python version: 3.8.8 (tags/v3.8.8:024d805, Feb 19 2021, 13:18:16) [MSC v.1928 64 bit (AMD64)]\n",
      "pandas version: 1.4.3\n",
      "matplotlib version: 3.5.2\n",
      "NumPy version: 1.22.4\n",
      "SciPy version: 1.8.1\n",
      "IPython version: 8.4.0\n",
      "scikit-learn version: 1.1.1\n",
      "tensorflow version: 2.9.1\n",
      "geopandas version: 0.11.0\n",
      "-------------------------\n"
     ]
    }
   ],
   "source": [
    "# 기본 데이터 라이브러리 로드\n",
    "import sys # 시스템 파라미터에 접근할 수 있게 도와준다.\n",
    "print(\"Python version: {}\". format(sys.version))\n",
    "\n",
    "import pandas as pd # 데이터 정제에 도움을 주는 라이브러리\n",
    "print(\"pandas version: {}\". format(pd.__version__))\n",
    "\n",
    "import matplotlib # 매트랩에서 사용하는 시각화 도구를 사용할 수 있게 도와주는 시각화 도구\n",
    "print(\"matplotlib version: {}\". format(matplotlib.__version__))\n",
    "\n",
    "import numpy as np # 행렬 계산을 위해 필요한 라이브러리\n",
    "print(\"NumPy version: {}\". format(np.__version__))\n",
    "\n",
    "import scipy as sp # 수학 관련 함수가 내장된 라이브러리\n",
    "print(\"SciPy version: {}\". format(sp.__version__)) \n",
    "\n",
    "import IPython\n",
    "from IPython import display # 주피터 노트북에서 예쁘게 시각화 해주는 도구\n",
    "print(\"IPython version: {}\". format(IPython.__version__)) \n",
    "\n",
    "import sklearn # 각종 통계 도구와 머신 러닝 알고리즘이 내장되어 있는 라이브러리\n",
    "print(\"scikit-learn version: {}\". format(sklearn.__version__))\n",
    "\n",
    "import tensorflow as tf\n",
    "print(\"tensorflow version: {}\".format(tf.__version__))\n",
    "\n",
    "import geopandas as gpd # 공간정보 라이브러리\n",
    "print(\"geopandas version: {}\".format(gpd.__version__))\n",
    "\n",
    "# 파이썬 내장 라이브러리\n",
    "import random\n",
    "import datetime\n",
    "import time\n",
    "import os\n",
    "from datetime import datetime, timedelta\n",
    "from dateutil.relativedelta import relativedelta\n",
    "import copy\n",
    "\n",
    "# 모델링 라이브러리, 수학 계산 툴 로드\n",
    "# 일반적인 모델링 라이브러리\n",
    "from sklearn import svm, tree, linear_model, neighbors, naive_bayes, ensemble, discriminant_analysis, gaussian_process\n",
    "from xgboost import XGBClassifier\n",
    "\n",
    "# 모델링 시 헬퍼 함수들\n",
    "from sklearn.preprocessing import OneHotEncoder, LabelEncoder\n",
    "from sklearn import feature_selection\n",
    "from sklearn import model_selection\n",
    "from sklearn import metrics\n",
    "\n",
    "# interpolation 함수\n",
    "import scipy.interpolate as spi\n",
    "from scipy import stats\n",
    "\n",
    "# model load\n",
    "import pickle\n",
    "# from sklearn.externals import joblib\n",
    "\n",
    "# 시각화 도구\n",
    "import matplotlib as mpl\n",
    "import matplotlib.pyplot as plt\n",
    "import matplotlib.pylab as pylab\n",
    "import seaborn as sns\n",
    "from pandas.plotting import scatter_matrix\n",
    "\n",
    "# 시각화 도구 default 세팅\n",
    "# 주피터 노트북에서 plot 결과를 볼 수 있게 해준다.\n",
    "%matplotlib inline\n",
    "mpl.style.use('ggplot') # matplotlib에서 plot되는 결과를 선택할 수 있다.\n",
    "sns.set_style('white') # seaborn에서 사용할 style을 설정할 수 있다.\n",
    "pylab.rcParams['figure.figsize'] = 12,8 # plot의 크기와 선 등의 기본 값을 설정할 수 있다.\n",
    "\n",
    "plt.style.use(['fivethirtyeight'])\n",
    "sns.set_style('darkgrid')\n",
    "\n",
    "from IPython.display import display #print가 아닌 display()로 연속 출력\n",
    "from IPython.display import HTML #출력 결과를 HTML로 생성\n",
    "import fiona #공간데이터를 딕셔너리 형태 등으로 접근할 수 있는 라이브러리\n",
    "\n",
    "# 좌표계 정의/변환용 라이브러리\n",
    "import pyproj\n",
    "\n",
    "# 좌표간의 거리 구하기 위한 라이브러리\n",
    "from haversine import haversine\n",
    "\n",
    "# Jupyter Notebook 이나 ipython 을 사용하다보면 향후 버전이 올라갈 때 변경될 사항 등을 알려주는 경고 메시지(warning message)를 뜨지 않게 해준다.\n",
    "import warnings\n",
    "warnings.filterwarnings('ignore')\n",
    "print('-'*25)\n",
    "\n",
    "# 뒤에서 overlay를 활용하기 위함. 설치 후 런타임 다시 시작할 것\n",
    "import rtree\n",
    "import pathlib\n",
    "#from geoband import API\n",
    "\n",
    "import mapclassify"
   ]
  },
  {
   "cell_type": "code",
   "execution_count": 1,
   "metadata": {},
   "outputs": [
    {
     "name": "stdout",
     "output_type": "stream",
     "text": [
      "Requirement already satisfied: pyproj in c:\\users\\chldl\\desktop\\공부\\공모전\\통계데이터활용경진대회\\codespace\\statics\\lib\\site-packages (3.3.1)\n",
      "Requirement already satisfied: certifi in c:\\users\\chldl\\desktop\\공부\\공모전\\통계데이터활용경진대회\\codespace\\statics\\lib\\site-packages (from pyproj) (2022.6.15)\n"
     ]
    }
   ],
   "source": [
    "!pip install pyproj"
   ]
  },
  {
   "cell_type": "code",
   "execution_count": 2,
   "metadata": {},
   "outputs": [
    {
     "name": "stdout",
     "output_type": "stream",
     "text": [
      "Collecting plotly\n",
      "  Downloading plotly-5.9.0-py2.py3-none-any.whl (15.2 MB)\n",
      "     --------------------------------------- 15.2/15.2 MB 25.2 MB/s eta 0:00:00\n",
      "Collecting tenacity>=6.2.0\n",
      "  Downloading tenacity-8.0.1-py3-none-any.whl (24 kB)\n",
      "Installing collected packages: tenacity, plotly\n",
      "Successfully installed plotly-5.9.0 tenacity-8.0.1\n"
     ]
    }
   ],
   "source": [
    "!pip install plotly"
   ]
  },
  {
   "cell_type": "code",
   "execution_count": null,
   "metadata": {},
   "outputs": [],
   "source": [
    "import plotly\n",
    "plotly.__version__"
   ]
  },
  {
   "cell_type": "code",
   "execution_count": null,
   "metadata": {},
   "outputs": [],
   "source": [
    "from tqdm import tqdm\n",
    "from shapely.geometry import shape, Point\n",
    "import pandas as pd\n",
    "import folium\n",
    "import json\n",
    "import requests\n",
    "from pyproj import Transformer\n",
    "from collections import defaultdict"
   ]
  },
  {
   "cell_type": "code",
   "execution_count": null,
   "metadata": {},
   "outputs": [],
   "source": [
    "def set_map():\n",
    "    \"\"\"\n",
    "    shp파일을 geopandas로 불러온 뒤 좌표계를 EPSG:5179로 바꿈. 현재 df의 Point 좌표계가 5179이기 때문에 읍면리 좌표를\n",
    "    5179 좌표계로 변경해서 매칭시킵니다.\n",
    "    * 참고로 EPSG:5179일 때 두 Point A,B의 x,y 좌표의 유클리디안 거리값이 A,B의 거리값이 됩니다.(1km 떨어져있다 등)\n",
    "    \"\"\"\n",
    "    \n",
    "    file = gpd.read_file('dataset\\LSMD_ADM_SECT_UMD_제주\\LSMD_ADM_SECT_UMD_50.shp', encoding='euckr')\n",
    "    file.crs = 'Proj4: +proj=tmerc +lat_0=38 +lon_0=127.0028902777778 +k=1 +x_0=200000 +y_0=500000 +ellps=bessel +units=m +no_defs +towgs84=-115.80,474.99,674.11,1.16,-2.31,-1.63,6.43'\n",
    "    file = file.to_crs('EPSG:5179')\n",
    "    return file"
   ]
  }
 ],
 "metadata": {
  "kernelspec": {
   "display_name": "Python 3.8.8 ('statics': venv)",
   "language": "python",
   "name": "python3"
  },
  "language_info": {
   "codemirror_mode": {
    "name": "ipython",
    "version": 3
   },
   "file_extension": ".py",
   "mimetype": "text/x-python",
   "name": "python",
   "nbconvert_exporter": "python",
   "pygments_lexer": "ipython3",
   "version": "3.8.8"
  },
  "orig_nbformat": 4,
  "vscode": {
   "interpreter": {
    "hash": "59d193233418fcc55ec522388c3abaec200d5cd7d7cfd657d10372fcfeb0ec34"
   }
  }
 },
 "nbformat": 4,
 "nbformat_minor": 2
}
